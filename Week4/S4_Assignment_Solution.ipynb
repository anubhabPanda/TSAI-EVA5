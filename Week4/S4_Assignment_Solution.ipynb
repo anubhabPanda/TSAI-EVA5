{
  "nbformat": 4,
  "nbformat_minor": 0,
  "metadata": {
    "colab": {
      "name": "EVA5 Session 4_Attempt2.ipynb",
      "provenance": [],
      "collapsed_sections": []
    },
    "kernelspec": {
      "name": "python3",
      "display_name": "Python 3"
    },
    "accelerator": "GPU"
  },
  "cells": [
    {
      "cell_type": "code",
      "metadata": {
        "id": "0m2JWFliFfKT",
        "colab_type": "code",
        "colab": {}
      },
      "source": [
        "from __future__ import print_function\n",
        "import torch\n",
        "import torch.nn as nn\n",
        "import torch.nn.functional as F\n",
        "import torch.optim as optim\n",
        "from torchvision import datasets, transforms"
      ],
      "execution_count": null,
      "outputs": []
    },
    {
      "cell_type": "code",
      "metadata": {
        "id": "h_Cx9q2QFgM7",
        "colab_type": "code",
        "colab": {}
      },
      "source": [
        "class Net(nn.Module):\n",
        "    def __init__(self):\n",
        "        super(Net, self).__init__()\n",
        "        self.conv1 = nn.Conv2d(1, 16, 3, padding=1, bias=False) #Input = 28X28X1 - Output = 28X28X16 - RF = 3\n",
        "        self.bn1 = nn.BatchNorm2d(16, affine=True)\n",
        "        self.dropout1 = nn.Dropout2d(0.1)\n",
        "        self.conv2 = nn.Conv2d(16, 16, 3, padding=1, bias=False) #Input = 28X28X16 - Output = 28X28X16 - RF = 5\n",
        "        self.bn2 = nn.BatchNorm2d(16, affine=True)\n",
        "        self.dropout2 = nn.Dropout2d(0.1)\n",
        "        self.conv3 = nn.Conv2d(16, 16, 3, padding=1, bias=True) #Input = 28X28X16 - Output = 28X28X16 - RF = 7\n",
        "        self.bn3 = nn.BatchNorm2d(16, affine=True)\n",
        "        self.pool1 = nn.MaxPool2d(2, 2) #Input = 28X28X16 - Output = 14X14X16 - RF = 8\n",
        "        \n",
        "        self.conv4 = nn.Conv2d(16, 16, 3, bias=False) #Input = 14X14X16 - Output = 12X12X16- RF = 14\n",
        "        self.bn4 = nn.BatchNorm2d(16, affine=True)\n",
        "        self.dropout4 = nn.Dropout2d(0.1)\n",
        "        \n",
        "        self.conv5 = nn.Conv2d(16, 16, 3, bias=False) #Input = 12X12X16 - Output = 10X10X16 - RF = 16\n",
        "        self.bn5 = nn.BatchNorm2d(16, affine=True)\n",
        "        self.dropout5 = nn.Dropout2d(0.1)\n",
        "        self.conv6 = nn.Conv2d(16, 16, 3, bias=False, padding=1) #Input = 10X10X16 - Output = 8X8X16 - RF = 18\n",
        "        \n",
        "        self.avg_pool = nn.AvgPool2d(8) #Output = 1X1X16\n",
        "        self.pointwise3 = nn.Conv2d(16, 10, 1, bias=False)\n",
        "        #self.fc1 = nn.Linear(32, 10)\n",
        "        # self.conv7 = nn.Conv2d(16, 10, 3, bias=False) #Input = 3X3X32 - Output = 1X1X10  - RF = 28\n",
        "\n",
        "    def forward(self, x):\n",
        "        x = self.dropout1(self.bn1(F.relu(self.conv1(x))))\n",
        "        x = self.dropout1(self.bn2(F.relu(self.conv2(x))))\n",
        "        x = self.bn3(F.relu(self.conv3(x)))\n",
        "        x = self.pool1(x)\n",
        "        x = self.dropout4(self.bn4(F.relu(self.conv4(x))))\n",
        "        x = self.dropout5(self.bn5(F.relu(self.conv5(x))))\n",
        "        x = F.relu(self.conv6(x))\n",
        "        # x = self.conv7(x)\n",
        "        #print(x.shape)\n",
        "        x = self.avg_pool(x)\n",
        "        #print(x.shape)\n",
        "        #x = x.view(-1, 32)\n",
        "        x = self.pointwise3(x)\n",
        "        #print(x.shape)\n",
        "        x = x.view(-1, 10)\n",
        "        return F.log_softmax(x, dim=1)"
      ],
      "execution_count": null,
      "outputs": []
    },
    {
      "cell_type": "code",
      "metadata": {
        "colab_type": "code",
        "id": "xdydjYTZFyi3",
        "colab": {
          "base_uri": "https://localhost:8080/",
          "height": 538
        },
        "outputId": "ce6de3e8-68c7-4b64-8277-e6e7f58c851f"
      },
      "source": [
        "#!pip install torchsummary\n",
        "from torchsummary import summary\n",
        "use_cuda = torch.cuda.is_available()\n",
        "device = torch.device(\"cuda\" if use_cuda else \"cpu\")\n",
        "model = Net().to(device)\n",
        "summary(model, input_size=(1, 28, 28))"
      ],
      "execution_count": null,
      "outputs": [
        {
          "output_type": "stream",
          "text": [
            "----------------------------------------------------------------\n",
            "        Layer (type)               Output Shape         Param #\n",
            "================================================================\n",
            "            Conv2d-1           [-1, 16, 28, 28]             144\n",
            "       BatchNorm2d-2           [-1, 16, 28, 28]              32\n",
            "         Dropout2d-3           [-1, 16, 28, 28]               0\n",
            "            Conv2d-4           [-1, 16, 28, 28]           2,304\n",
            "       BatchNorm2d-5           [-1, 16, 28, 28]              32\n",
            "         Dropout2d-6           [-1, 16, 28, 28]               0\n",
            "            Conv2d-7           [-1, 16, 28, 28]           2,320\n",
            "       BatchNorm2d-8           [-1, 16, 28, 28]              32\n",
            "         MaxPool2d-9           [-1, 16, 14, 14]               0\n",
            "           Conv2d-10           [-1, 16, 12, 12]           2,304\n",
            "      BatchNorm2d-11           [-1, 16, 12, 12]              32\n",
            "        Dropout2d-12           [-1, 16, 12, 12]               0\n",
            "           Conv2d-13           [-1, 16, 10, 10]           2,304\n",
            "      BatchNorm2d-14           [-1, 16, 10, 10]              32\n",
            "        Dropout2d-15           [-1, 16, 10, 10]               0\n",
            "           Conv2d-16           [-1, 16, 10, 10]           2,304\n",
            "        AvgPool2d-17             [-1, 16, 1, 1]               0\n",
            "           Conv2d-18             [-1, 10, 1, 1]             160\n",
            "================================================================\n",
            "Total params: 12,000\n",
            "Trainable params: 12,000\n",
            "Non-trainable params: 0\n",
            "----------------------------------------------------------------\n",
            "Input size (MB): 0.00\n",
            "Forward/backward pass size (MB): 0.89\n",
            "Params size (MB): 0.05\n",
            "Estimated Total Size (MB): 0.94\n",
            "----------------------------------------------------------------\n"
          ],
          "name": "stdout"
        }
      ]
    },
    {
      "cell_type": "code",
      "metadata": {
        "id": "DqTWLaM5GHgH",
        "colab_type": "code",
        "colab": {}
      },
      "source": [
        "\n",
        "\n",
        "torch.manual_seed(1)\n",
        "batch_size = 32\n",
        "\n",
        "kwargs = {'num_workers': 1, 'pin_memory': True} if use_cuda else {}\n",
        "train_loader = torch.utils.data.DataLoader(\n",
        "    datasets.MNIST('../data', train=True, download=True,\n",
        "                    transform=transforms.Compose([\n",
        "                        transforms.ToTensor(),\n",
        "                        transforms.Normalize((0.1307,), (0.3081,))\n",
        "                    ])),\n",
        "    batch_size=batch_size, shuffle=True, **kwargs)\n",
        "test_loader = torch.utils.data.DataLoader(\n",
        "    datasets.MNIST('../data', train=False, transform=transforms.Compose([\n",
        "                        transforms.ToTensor(),\n",
        "                        transforms.Normalize((0.1307,), (0.3081,))\n",
        "                    ])),\n",
        "    batch_size=batch_size, shuffle=True, **kwargs)\n"
      ],
      "execution_count": null,
      "outputs": []
    },
    {
      "cell_type": "code",
      "metadata": {
        "id": "8fDefDhaFlwH",
        "colab_type": "code",
        "colab": {}
      },
      "source": [
        "from tqdm import tqdm\n",
        "def train(model, device, train_loader, optimizer, epoch):\n",
        "    model.train()\n",
        "    pbar = tqdm(train_loader)\n",
        "    for batch_idx, (data, target) in enumerate(pbar):\n",
        "        data, target = data.to(device), target.to(device)\n",
        "        optimizer.zero_grad()\n",
        "        output = model(data)\n",
        "        loss = F.nll_loss(output, target)\n",
        "        loss.backward()\n",
        "        optimizer.step()\n",
        "        pbar.set_description(desc= f'loss={loss.item()} batch_id={batch_idx}')\n",
        "\n",
        "\n",
        "def test(model, device, test_loader):\n",
        "    model.eval()\n",
        "    test_loss = 0\n",
        "    correct = 0\n",
        "    with torch.no_grad():\n",
        "        for data, target in test_loader:\n",
        "            data, target = data.to(device), target.to(device)\n",
        "            output = model(data)\n",
        "            test_loss += F.nll_loss(output, target, reduction='sum').item()  # sum up batch loss\n",
        "            pred = output.argmax(dim=1, keepdim=True)  # get the index of the max log-probability\n",
        "            correct += pred.eq(target.view_as(pred)).sum().item()\n",
        "\n",
        "    test_loss /= len(test_loader.dataset)\n",
        "\n",
        "    print('\\nTest set: Average loss: {:.4f}, Accuracy: {}/{} ({:.2f}%)\\n'.format(\n",
        "        test_loss, correct, len(test_loader.dataset),\n",
        "        100. * correct / len(test_loader.dataset)))"
      ],
      "execution_count": null,
      "outputs": []
    },
    {
      "cell_type": "code",
      "metadata": {
        "id": "MMWbLWO6FuHb",
        "colab_type": "code",
        "colab": {
          "base_uri": "https://localhost:8080/",
          "height": 1000
        },
        "outputId": "30453439-7586-4e5e-8037-d4323e6fc970"
      },
      "source": [
        "\n",
        "model = Net().to(device)\n",
        "optimizer = optim.SGD(model.parameters(), lr=0.01, momentum=0.9)\n",
        "\n",
        "for epoch in range(0, 19):\n",
        "    train(model, device, train_loader, optimizer, epoch)\n",
        "    test(model, device, test_loader)"
      ],
      "execution_count": null,
      "outputs": [
        {
          "output_type": "stream",
          "text": [
            "loss=0.12145650386810303 batch_id=1874: 100%|██████████| 1875/1875 [00:22<00:00, 82.09it/s]\n",
            "  0%|          | 0/1875 [00:00<?, ?it/s]"
          ],
          "name": "stderr"
        },
        {
          "output_type": "stream",
          "text": [
            "\n",
            "Test set: Average loss: 0.0498, Accuracy: 9858/10000 (98.58%)\n",
            "\n"
          ],
          "name": "stdout"
        },
        {
          "output_type": "stream",
          "text": [
            "loss=0.15867608785629272 batch_id=1874: 100%|██████████| 1875/1875 [00:22<00:00, 83.37it/s]\n",
            "  0%|          | 0/1875 [00:00<?, ?it/s]"
          ],
          "name": "stderr"
        },
        {
          "output_type": "stream",
          "text": [
            "\n",
            "Test set: Average loss: 0.0387, Accuracy: 9876/10000 (98.76%)\n",
            "\n"
          ],
          "name": "stdout"
        },
        {
          "output_type": "stream",
          "text": [
            "loss=0.02927969954907894 batch_id=1874: 100%|██████████| 1875/1875 [00:22<00:00, 82.28it/s]\n",
            "  0%|          | 0/1875 [00:00<?, ?it/s]"
          ],
          "name": "stderr"
        },
        {
          "output_type": "stream",
          "text": [
            "\n",
            "Test set: Average loss: 0.0288, Accuracy: 9917/10000 (99.17%)\n",
            "\n"
          ],
          "name": "stdout"
        },
        {
          "output_type": "stream",
          "text": [
            "loss=0.12595228850841522 batch_id=1874: 100%|██████████| 1875/1875 [00:22<00:00, 83.33it/s]\n",
            "  0%|          | 0/1875 [00:00<?, ?it/s]"
          ],
          "name": "stderr"
        },
        {
          "output_type": "stream",
          "text": [
            "\n",
            "Test set: Average loss: 0.0302, Accuracy: 9909/10000 (99.09%)\n",
            "\n"
          ],
          "name": "stdout"
        },
        {
          "output_type": "stream",
          "text": [
            "loss=0.035962849855422974 batch_id=1874: 100%|██████████| 1875/1875 [00:22<00:00, 82.24it/s]\n",
            "  0%|          | 0/1875 [00:00<?, ?it/s]"
          ],
          "name": "stderr"
        },
        {
          "output_type": "stream",
          "text": [
            "\n",
            "Test set: Average loss: 0.0295, Accuracy: 9909/10000 (99.09%)\n",
            "\n"
          ],
          "name": "stdout"
        },
        {
          "output_type": "stream",
          "text": [
            "loss=0.09191256016492844 batch_id=1874: 100%|██████████| 1875/1875 [00:22<00:00, 84.19it/s]\n",
            "  0%|          | 0/1875 [00:00<?, ?it/s]"
          ],
          "name": "stderr"
        },
        {
          "output_type": "stream",
          "text": [
            "\n",
            "Test set: Average loss: 0.0259, Accuracy: 9926/10000 (99.26%)\n",
            "\n"
          ],
          "name": "stdout"
        },
        {
          "output_type": "stream",
          "text": [
            "loss=0.017600031569600105 batch_id=1874: 100%|██████████| 1875/1875 [00:22<00:00, 82.37it/s]\n",
            "  0%|          | 0/1875 [00:00<?, ?it/s]"
          ],
          "name": "stderr"
        },
        {
          "output_type": "stream",
          "text": [
            "\n",
            "Test set: Average loss: 0.0270, Accuracy: 9922/10000 (99.22%)\n",
            "\n"
          ],
          "name": "stdout"
        },
        {
          "output_type": "stream",
          "text": [
            "loss=0.0028165592812001705 batch_id=1874: 100%|██████████| 1875/1875 [00:22<00:00, 84.27it/s]\n",
            "  0%|          | 0/1875 [00:00<?, ?it/s]"
          ],
          "name": "stderr"
        },
        {
          "output_type": "stream",
          "text": [
            "\n",
            "Test set: Average loss: 0.0229, Accuracy: 9934/10000 (99.34%)\n",
            "\n"
          ],
          "name": "stdout"
        },
        {
          "output_type": "stream",
          "text": [
            "loss=0.03108496405184269 batch_id=1874: 100%|██████████| 1875/1875 [00:22<00:00, 84.92it/s]\n",
            "  0%|          | 0/1875 [00:00<?, ?it/s]"
          ],
          "name": "stderr"
        },
        {
          "output_type": "stream",
          "text": [
            "\n",
            "Test set: Average loss: 0.0234, Accuracy: 9923/10000 (99.23%)\n",
            "\n"
          ],
          "name": "stdout"
        },
        {
          "output_type": "stream",
          "text": [
            "loss=0.00753451744094491 batch_id=1874: 100%|██████████| 1875/1875 [00:22<00:00, 83.98it/s]\n",
            "  0%|          | 0/1875 [00:00<?, ?it/s]"
          ],
          "name": "stderr"
        },
        {
          "output_type": "stream",
          "text": [
            "\n",
            "Test set: Average loss: 0.0252, Accuracy: 9918/10000 (99.18%)\n",
            "\n"
          ],
          "name": "stdout"
        },
        {
          "output_type": "stream",
          "text": [
            "loss=0.07758792489767075 batch_id=1874: 100%|██████████| 1875/1875 [00:21<00:00, 86.05it/s]\n",
            "  0%|          | 0/1875 [00:00<?, ?it/s]"
          ],
          "name": "stderr"
        },
        {
          "output_type": "stream",
          "text": [
            "\n",
            "Test set: Average loss: 0.0274, Accuracy: 9918/10000 (99.18%)\n",
            "\n"
          ],
          "name": "stdout"
        },
        {
          "output_type": "stream",
          "text": [
            "loss=0.012671450152993202 batch_id=1874: 100%|██████████| 1875/1875 [00:22<00:00, 85.08it/s]\n",
            "  0%|          | 0/1875 [00:00<?, ?it/s]"
          ],
          "name": "stderr"
        },
        {
          "output_type": "stream",
          "text": [
            "\n",
            "Test set: Average loss: 0.0201, Accuracy: 9943/10000 (99.43%)\n",
            "\n"
          ],
          "name": "stdout"
        },
        {
          "output_type": "stream",
          "text": [
            "loss=0.018601128831505775 batch_id=1874: 100%|██████████| 1875/1875 [00:22<00:00, 84.74it/s]\n",
            "  0%|          | 0/1875 [00:00<?, ?it/s]"
          ],
          "name": "stderr"
        },
        {
          "output_type": "stream",
          "text": [
            "\n",
            "Test set: Average loss: 0.0213, Accuracy: 9933/10000 (99.33%)\n",
            "\n"
          ],
          "name": "stdout"
        },
        {
          "output_type": "stream",
          "text": [
            "loss=0.04487287253141403 batch_id=1874: 100%|██████████| 1875/1875 [00:22<00:00, 84.82it/s]\n",
            "  0%|          | 0/1875 [00:00<?, ?it/s]"
          ],
          "name": "stderr"
        },
        {
          "output_type": "stream",
          "text": [
            "\n",
            "Test set: Average loss: 0.0194, Accuracy: 9943/10000 (99.43%)\n",
            "\n"
          ],
          "name": "stdout"
        },
        {
          "output_type": "stream",
          "text": [
            "loss=0.06854318082332611 batch_id=1874: 100%|██████████| 1875/1875 [00:22<00:00, 84.87it/s]\n",
            "  0%|          | 0/1875 [00:00<?, ?it/s]"
          ],
          "name": "stderr"
        },
        {
          "output_type": "stream",
          "text": [
            "\n",
            "Test set: Average loss: 0.0244, Accuracy: 9924/10000 (99.24%)\n",
            "\n"
          ],
          "name": "stdout"
        },
        {
          "output_type": "stream",
          "text": [
            "loss=0.07848720997571945 batch_id=1874: 100%|██████████| 1875/1875 [00:21<00:00, 85.25it/s]\n",
            "  0%|          | 0/1875 [00:00<?, ?it/s]"
          ],
          "name": "stderr"
        },
        {
          "output_type": "stream",
          "text": [
            "\n",
            "Test set: Average loss: 0.0234, Accuracy: 9931/10000 (99.31%)\n",
            "\n"
          ],
          "name": "stdout"
        },
        {
          "output_type": "stream",
          "text": [
            "loss=0.022537192329764366 batch_id=1874: 100%|██████████| 1875/1875 [00:22<00:00, 84.24it/s]\n",
            "  0%|          | 0/1875 [00:00<?, ?it/s]"
          ],
          "name": "stderr"
        },
        {
          "output_type": "stream",
          "text": [
            "\n",
            "Test set: Average loss: 0.0176, Accuracy: 9949/10000 (99.49%)\n",
            "\n"
          ],
          "name": "stdout"
        },
        {
          "output_type": "stream",
          "text": [
            "loss=0.15865878760814667 batch_id=1874: 100%|██████████| 1875/1875 [00:21<00:00, 85.70it/s]\n",
            "  0%|          | 0/1875 [00:00<?, ?it/s]"
          ],
          "name": "stderr"
        },
        {
          "output_type": "stream",
          "text": [
            "\n",
            "Test set: Average loss: 0.0195, Accuracy: 9946/10000 (99.46%)\n",
            "\n"
          ],
          "name": "stdout"
        },
        {
          "output_type": "stream",
          "text": [
            "loss=0.0016589160077273846 batch_id=1874: 100%|██████████| 1875/1875 [00:21<00:00, 85.87it/s]\n"
          ],
          "name": "stderr"
        },
        {
          "output_type": "stream",
          "text": [
            "\n",
            "Test set: Average loss: 0.0185, Accuracy: 9942/10000 (99.42%)\n",
            "\n"
          ],
          "name": "stdout"
        }
      ]
    },
    {
      "cell_type": "code",
      "metadata": {
        "id": "So5uk4EkHW6R",
        "colab_type": "code",
        "colab": {}
      },
      "source": [
        ""
      ],
      "execution_count": null,
      "outputs": []
    }
  ]
}