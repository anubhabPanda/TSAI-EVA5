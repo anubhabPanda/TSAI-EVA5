{
  "nbformat": 4,
  "nbformat_minor": 0,
  "metadata": {
    "colab": {
      "name": "Step1.ipynb",
      "provenance": [],
      "collapsed_sections": []
    },
    "kernelspec": {
      "name": "python3",
      "display_name": "Python 3"
    },
    "accelerator": "GPU"
  },
  "cells": [
    {
      "cell_type": "markdown",
      "metadata": {
        "id": "rtazV2N5pELO",
        "colab_type": "text"
      },
      "source": [
        "# Step1"
      ]
    },
    {
      "cell_type": "markdown",
      "metadata": {
        "id": "yec7Qt08pHqo",
        "colab_type": "text"
      },
      "source": [
        "### Target\n",
        "\n",
        "1. Get the setup right\n",
        "2. Read MNIST dataset, set train test split and create Data Loader\n",
        "3. Get the summary statistics for the data\n",
        "4. Set initial transforms and apply transformation to the train and test set separately\n",
        "5. Get the basic neural net architecture skeleton right. We will try and avoid changing the skeleton later\n",
        "6. Set basic training and test loop\n",
        "\n",
        "### Results\n",
        "\n",
        "1. Parameters: 992,800\n",
        "2. Best Training Accuracy: 99.88\n",
        "3. Best Test Accuracy: 99.14\n",
        "\n",
        "### Analysis\n",
        "\n",
        "1. Very heavy model for such an easy problem. Lots of parameters. Have to reduce the number of parameters in the next step\n",
        "2. Test accuracy is way below the target accuracy\n",
        "3. Model is overfitting"
      ]
    },
    {
      "cell_type": "markdown",
      "metadata": {
        "id": "aO-7t1Y7-hV4",
        "colab_type": "text"
      },
      "source": [
        "# Import Libraries\n",
        "Import the necessary packages"
      ]
    },
    {
      "cell_type": "code",
      "metadata": {
        "id": "8kH16rnZ7wt_",
        "colab_type": "code",
        "colab": {}
      },
      "source": [
        "from __future__ import print_function\n",
        "import torch\n",
        "import torch.nn as nn\n",
        "import torch.nn.functional as F\n",
        "import torch.optim as optim\n",
        "from torchvision import datasets, transforms\n",
        "from torchsummary import summary\n",
        "import matplotlib.pyplot as plt\n",
        "from tqdm import tqdm\n",
        "import numpy as np\n",
        "import pandas as pd\n",
        "import seaborn as sns\n",
        "%matplotlib inline"
      ],
      "execution_count": 69,
      "outputs": []
    },
    {
      "cell_type": "markdown",
      "metadata": {
        "id": "oQciFYo2B1mO",
        "colab_type": "text"
      },
      "source": [
        "# Read Dataset and Create Train/Test Split"
      ]
    },
    {
      "cell_type": "code",
      "metadata": {
        "id": "_4A84rlfDA23",
        "colab_type": "code",
        "colab": {}
      },
      "source": [
        "train = datasets.MNIST('./data', train=True, download=True)\n",
        "test = datasets.MNIST('./data', train=False, download=True)"
      ],
      "execution_count": 70,
      "outputs": []
    },
    {
      "cell_type": "markdown",
      "metadata": {
        "id": "-TFjoFekE_va",
        "colab_type": "text"
      },
      "source": [
        "# Data Statistics and Visualization\n",
        "\n",
        "Let us check some of the summary statistics for our data. It will help us to set initial transform. We can also visualize some sample images to get an idea of what transforms we can apply later."
      ]
    },
    {
      "cell_type": "code",
      "metadata": {
        "id": "hWZPPo3yEHDW",
        "colab_type": "code",
        "colab": {}
      },
      "source": [
        "# Function to get summary statistics\n",
        "def get_summary_stats(sample_data, data_label=\"Sample Data\"):\n",
        "  \"\"\"\n",
        "  Function to get summary statistics from a given data\n",
        "\n",
        "  Args\n",
        "  ----\n",
        "  sample_data: Tensor\n",
        "  data_label: str\n",
        "\n",
        "  Returns\n",
        "  -------\n",
        "  None\n",
        "  \"\"\"\n",
        "  sample = sample_data.data\n",
        "  sample = sample.numpy()\n",
        "  # Normalizing data between 0 and 1\n",
        "  sample = sample/255\n",
        "  print(f'Summary Statistics for {data_label}')\n",
        "  print(' - Numpy Shape:', sample.shape)\n",
        "  print(' - Tensor Shape:', sample.size)\n",
        "  print(' - min:', np.min(sample))\n",
        "  print(' - max:', np.max(sample))\n",
        "  print(' - mean:', np.mean(sample))\n",
        "  print(' - std:', np.std(sample))\n",
        "  print(' - var:', np.var(sample))\n"
      ],
      "execution_count": 71,
      "outputs": []
    },
    {
      "cell_type": "code",
      "metadata": {
        "id": "CQFIL7-ixtKt",
        "colab_type": "code",
        "colab": {
          "base_uri": "https://localhost:8080/",
          "height": 487
        },
        "outputId": "bb91fbf4-7cf2-4488-856c-f6dc687307a5"
      },
      "source": [
        "combined_data = torch.cat([train.data, test.data])\n",
        "get_summary_stats(train.data, data_label=\"Training Dataset\")\n",
        "print(\"\\n\")\n",
        "get_summary_stats(test.data, data_label=\"Test Dataset\")\n",
        "print(\"\\n\")\n",
        "get_summary_stats(combined_data, data_label=\"Complete Dataset\")"
      ],
      "execution_count": 72,
      "outputs": [
        {
          "output_type": "stream",
          "text": [
            "Summary Statistics for Training Dataset\n",
            " - Numpy Shape: (60000, 28, 28)\n",
            " - Tensor Shape: 47040000\n",
            " - min: 0.0\n",
            " - max: 1.0\n",
            " - mean: 0.1306604762738429\n",
            " - std: 0.3081078038564622\n",
            " - var: 0.09493041879725218\n",
            "\n",
            "\n",
            "Summary Statistics for Test Dataset\n",
            " - Numpy Shape: (10000, 28, 28)\n",
            " - Tensor Shape: 7840000\n",
            " - min: 0.0\n",
            " - max: 1.0\n",
            " - mean: 0.13251460584233699\n",
            " - std: 0.3104802479305348\n",
            " - var: 0.09639798435500636\n",
            "\n",
            "\n",
            "Summary Statistics for Complete Dataset\n",
            " - Numpy Shape: (70000, 28, 28)\n",
            " - Tensor Shape: 54880000\n",
            " - min: 0.0\n",
            " - max: 1.0\n",
            " - mean: 0.13092535192648502\n",
            " - std: 0.3084485240270358\n",
            " - var: 0.0951404919744569\n"
          ],
          "name": "stdout"
        }
      ]
    },
    {
      "cell_type": "code",
      "metadata": {
        "id": "RQlcjBWQ1FWz",
        "colab_type": "code",
        "colab": {
          "base_uri": "https://localhost:8080/",
          "height": 367
        },
        "outputId": "152d9844-0799-4acd-e2a4-5f2941cd61f5"
      },
      "source": [
        "fig, ax = plt.subplots(figsize = (14, 5))\n",
        "count_plot = sns.countplot(pd.Series(train.targets.numpy()), color=\"#3274a1\", ax = ax)\n",
        "ax.set_xlabel(\"Class\")\n",
        "ax.set_ylabel(\"Count of class\")\n",
        "ax.set_title(\"Countplot for classes in training set\")"
      ],
      "execution_count": 73,
      "outputs": [
        {
          "output_type": "execute_result",
          "data": {
            "text/plain": [
              "Text(0.5, 1.0, 'Countplot for classes in training set')"
            ]
          },
          "metadata": {
            "tags": []
          },
          "execution_count": 73
        },
        {
          "output_type": "display_data",
          "data": {
            "image/png": "[encoded data removed]",
            "text/plain": [
              "<Figure size 1008x360 with 1 Axes>"
            ]
          },
          "metadata": {
            "tags": [],
            "needs_background": "light"
          }
        }
      ]
    },
    {
      "cell_type": "markdown",
      "metadata": {
        "id": "_NTCBwsn47hf",
        "colab_type": "text"
      },
      "source": [
        "### Inference\n",
        "The classes are almost balanced. No need for any class imbalance tricks"
      ]
    },
    {
      "cell_type": "markdown",
      "metadata": {
        "id": "_WlLQMDX6ISg",
        "colab_type": "text"
      },
      "source": [
        "Now lets visualize some of the images"
      ]
    },
    {
      "cell_type": "code",
      "metadata": {
        "id": "smqff6lJ46PI",
        "colab_type": "code",
        "colab": {
          "base_uri": "https://localhost:8080/",
          "height": 357
        },
        "outputId": "93de5d2e-8056-455d-f5c7-46125b5f7058"
      },
      "source": [
        "figure = plt.figure(figsize=(10, 6))\n",
        "num_of_images = 60\n",
        "for index in range(1, num_of_images + 1):\n",
        "    plt.subplot(6, 10, index)\n",
        "    plt.axis('off')\n",
        "    plt.imshow(train.data.numpy()[index], cmap='gray_r')\n",
        "#Deleting the combined data since its of no use any longer\n",
        "del combined_data"
      ],
      "execution_count": 74,
      "outputs": [
        {
          "output_type": "display_data",
          "data": {
            "image/png": "[encoded data removed]",
            "text/plain": [
              "<Figure size 720x432 with 60 Axes>"
            ]
          },
          "metadata": {
            "tags": [],
            "needs_background": "light"
          }
        }
      ]
    },
    {
      "cell_type": "markdown",
      "metadata": {
        "id": "WaXMkAQt6oZW",
        "colab_type": "text"
      },
      "source": [
        "# Setting Transforms\n",
        "Now we can set transforms from the summary statistics. We will be applying the following transformations: \n",
        "* ToTensor() : It converts PIL image or numpy array to FloatTensor in the range of [0.0, 1.0]\n",
        "* Normalize: It normalizes each channel of an input given a mean and std deviation. We have already ascertained the mean and std deviation of the dataset to be 0.1309 ad 0.3084"
      ]
    },
    {
      "cell_type": "code",
      "metadata": {
        "id": "YtssFUKb-jqx",
        "colab_type": "code",
        "colab": {}
      },
      "source": [
        "# Train Phase transformations\n",
        "train_transforms = transforms.Compose([\n",
        "                                       transforms.ToTensor(),  \n",
        "                                       transforms.Normalize((0.1309,), (0.3084,))\n",
        "                                       ])\n",
        "\n",
        "# Test Phase transformations\n",
        "test_transforms = transforms.Compose([\n",
        "                                       transforms.ToTensor(),\n",
        "                                       transforms.Normalize((0.1309,), (0.3084,))\n",
        "                                       ])"
      ],
      "execution_count": 64,
      "outputs": []
    },
    {
      "cell_type": "code",
      "metadata": {
        "id": "eF6Wu_Ns9SzG",
        "colab_type": "code",
        "colab": {}
      },
      "source": [
        "#Read data and apply the above transforms\n",
        "train = datasets.MNIST('./data', train=True, download=True, transform=train_transforms)\n",
        "test = datasets.MNIST('./data', train=False, download=True, transform=test_transforms)"
      ],
      "execution_count": 75,
      "outputs": []
    },
    {
      "cell_type": "markdown",
      "metadata": {
        "id": "qgldp_3-Dn0c",
        "colab_type": "text"
      },
      "source": [
        "# Set Dataloader Arguments & Create Test/Train Dataloaders\n"
      ]
    },
    {
      "cell_type": "code",
      "metadata": {
        "id": "C8OLDR79DrHG",
        "colab_type": "code",
        "colab": {
          "base_uri": "https://localhost:8080/",
          "height": 50
        },
        "outputId": "ed05eb5f-b7b2-4a3c-f5bf-cabf623085cb"
      },
      "source": [
        "# Set the manual seed\n",
        "SEED = 1\n",
        "# Initialize batch size\n",
        "bs = 128\n",
        "# Check for availability of cuda\n",
        "cuda = torch.cuda.is_available()\n",
        "print(\" Is CUDA Available ?\\n\", cuda)\n",
        "\n",
        "# For reproducibility\n",
        "torch.manual_seed(SEED)\n",
        "\n",
        "if cuda:\n",
        "    torch.cuda.manual_seed(SEED)\n",
        "\n",
        "# Setting the dataloader arguments\n",
        "dataloader_args = dict(shuffle=True, batch_size=bs, num_workers=4, pin_memory=True) if cuda else dict(shuffle=True, batch_size=64)\n",
        "\n",
        "# train dataloader\n",
        "train_loader = torch.utils.data.DataLoader(train, **dataloader_args)\n",
        "\n",
        "# test dataloader\n",
        "test_loader = torch.utils.data.DataLoader(test, **dataloader_args)"
      ],
      "execution_count": 77,
      "outputs": [
        {
          "output_type": "stream",
          "text": [
            " Is CUDA Available ?\n",
            " True\n"
          ],
          "name": "stdout"
        }
      ]
    },
    {
      "cell_type": "markdown",
      "metadata": {
        "id": "ubQL3H6RJL3h",
        "colab_type": "text"
      },
      "source": [
        "# The model architecture\n",
        "Now we can setup or initial model skeleton"
      ]
    },
    {
      "cell_type": "code",
      "metadata": {
        "id": "7FXQlB9kH1ov",
        "colab_type": "code",
        "colab": {}
      },
      "source": [
        "class Net(nn.Module):\n",
        "    def __init__(self):\n",
        "      \"\"\"\n",
        "      Initializes all the model layers\n",
        "      \"\"\"\n",
        "      #Inheriting from the nn.Module class\n",
        "      super(Net, self).__init__()\n",
        "      \n",
        "      #Convolution Block 1\n",
        "      self.conv1 = nn.Sequential(\n",
        "          nn.Conv2d(in_channels=1, out_channels=32, kernel_size=3, bias=False, padding=0),\n",
        "          nn.ReLU()\n",
        "      ) #Input: 28X28X1 | Output: 26X26X32 | RF: 3\n",
        "\n",
        "      #Convolution Block 2\n",
        "      self.conv2 = nn.Sequential(\n",
        "          nn.Conv2d(in_channels=32, out_channels=64, kernel_size=3, bias=False, padding=0),\n",
        "          nn.ReLU()\n",
        "      ) #Input: 26X26X32 | Output: 24X24X64 | RF: 5\n",
        "\n",
        "      #Convolution Block 3\n",
        "      self.conv3 = nn.Sequential(\n",
        "          nn.Conv2d(in_channels=64, out_channels=128, kernel_size=3, bias=False, padding=0),\n",
        "          nn.ReLU()\n",
        "      ) #Input: 24X24X64 | Output: 22X22X128 | RF: 7\n",
        "\n",
        "      #Transition Block 1\n",
        "      self.pool1 = nn.MaxPool2d(2, 2) #Input: 22X28X128 | Output: 11X11X128 | RF: 8\n",
        "      self.conv4 = nn.Sequential(\n",
        "          nn.Conv2d(in_channels=128, out_channels=32, kernel_size=1, bias=False),\n",
        "          nn.ReLU()\n",
        "      ) #Input: 11X11X128 | Output: 11X11X32 | RF: 8\n",
        "\n",
        "      #Convolution Block 5\n",
        "      self.conv5 = nn.Sequential(\n",
        "          nn.Conv2d(in_channels=32, out_channels=64, kernel_size=3, bias=False, padding=0),\n",
        "          nn.ReLU()\n",
        "      ) #Input: 11X11X32 | Output: 9X9X64 | RF: 12\n",
        "\n",
        "      #Convolution Block 6\n",
        "      self.conv6 = nn.Sequential(\n",
        "          nn.Conv2d(in_channels=64, out_channels=128, kernel_size=3, bias=False, padding=0),\n",
        "          nn.ReLU()\n",
        "      ) #Input: 9X9X64 | Output: 7X7X128 | RF: 16\n",
        "\n",
        "      #Output Block\n",
        "      self.conv7 = nn.Sequential(\n",
        "          nn.Conv2d(in_channels=128, out_channels=128, kernel_size=7, bias=False, padding=0),\n",
        "          nn.ReLU()\n",
        "      ) #Input: 7X7X128 | Output: 1X1X128 | RF: 28\n",
        "      \n",
        "      self.conv8 = nn.Sequential(\n",
        "          nn.Conv2d(in_channels=128, out_channels=10, kernel_size=1, bias=False, padding=0),\n",
        "      ) #Input: 1X1X128 | Output: 1X1X10 | RF: 28\n",
        "\n",
        "\n",
        "    def forward(self, x):\n",
        "        x = self.conv1(x)\n",
        "        x = self.conv2(x)\n",
        "        x = self.conv3(x)\n",
        "        x = self.pool1(x)\n",
        "        x = self.conv4(x)\n",
        "        x = self.conv5(x)\n",
        "        x = self.conv6(x)\n",
        "        x = self.conv7(x)\n",
        "        x = self.conv8(x)\n",
        "        x = x.view(-1, 10)\n",
        "        return F.log_softmax(x, dim=-1)"
      ],
      "execution_count": 79,
      "outputs": []
    },
    {
      "cell_type": "markdown",
      "metadata": {
        "id": "M3-vp8X9LCWo",
        "colab_type": "text"
      },
      "source": [
        "# Model Params\n",
        "We can now check the model summary and see the total number of parameters"
      ]
    },
    {
      "cell_type": "code",
      "metadata": {
        "id": "5skB97zIJQQe",
        "colab_type": "code",
        "colab": {
          "base_uri": "https://localhost:8080/",
          "height": 521
        },
        "outputId": "30b9795c-ee15-4341-f5bc-143a788a00f6"
      },
      "source": [
        "use_cuda = torch.cuda.is_available()\n",
        "device = torch.device(\"cuda\" if use_cuda else \"cpu\") #Use cuda if available else use cpu\n",
        "print(device)\n",
        "model = Net().to(device) #Sending the model to cuda if available otherwise use cpu\n",
        "summary(model, input_size=(1, 28, 28))"
      ],
      "execution_count": 80,
      "outputs": [
        {
          "output_type": "stream",
          "text": [
            "cuda\n",
            "----------------------------------------------------------------\n",
            "        Layer (type)               Output Shape         Param #\n",
            "================================================================\n",
            "            Conv2d-1           [-1, 32, 26, 26]             288\n",
            "              ReLU-2           [-1, 32, 26, 26]               0\n",
            "            Conv2d-3           [-1, 64, 24, 24]          18,432\n",
            "              ReLU-4           [-1, 64, 24, 24]               0\n",
            "            Conv2d-5          [-1, 128, 22, 22]          73,728\n",
            "              ReLU-6          [-1, 128, 22, 22]               0\n",
            "         MaxPool2d-7          [-1, 128, 11, 11]               0\n",
            "            Conv2d-8           [-1, 32, 11, 11]           4,096\n",
            "              ReLU-9           [-1, 32, 11, 11]               0\n",
            "           Conv2d-10             [-1, 64, 9, 9]          18,432\n",
            "             ReLU-11             [-1, 64, 9, 9]               0\n",
            "           Conv2d-12            [-1, 128, 7, 7]          73,728\n",
            "             ReLU-13            [-1, 128, 7, 7]               0\n",
            "           Conv2d-14            [-1, 128, 1, 1]         802,816\n",
            "             ReLU-15            [-1, 128, 1, 1]               0\n",
            "           Conv2d-16             [-1, 10, 1, 1]           1,280\n",
            "================================================================\n",
            "Total params: 992,800\n",
            "Trainable params: 992,800\n",
            "Non-trainable params: 0\n",
            "----------------------------------------------------------------\n",
            "Input size (MB): 0.00\n",
            "Forward/backward pass size (MB): 2.19\n",
            "Params size (MB): 3.79\n",
            "Estimated Total Size (MB): 5.98\n",
            "----------------------------------------------------------------\n"
          ],
          "name": "stdout"
        }
      ]
    },
    {
      "cell_type": "markdown",
      "metadata": {
        "id": "1__x_SbrL7z3",
        "colab_type": "text"
      },
      "source": [
        "# Training and Testing\n",
        "\n",
        "All right, so we have 9.9M params, and that's too many, we know that. But the purpose of this notebook is to set things right for our future experiments. \n",
        "\n",
        "Looking at logs can be boring, so we'll introduce **tqdm** progressbar to get cool looking logs. \n",
        "\n",
        "Let's write train and test functions"
      ]
    },
    {
      "cell_type": "code",
      "metadata": {
        "id": "fbkF2nN_LYIb",
        "colab_type": "code",
        "colab": {}
      },
      "source": [
        "train_losses = []\n",
        "test_losses = []\n",
        "train_acc = []\n",
        "test_acc = []\n",
        "\n",
        "def train(model, device, train_loader, optimizer, epoch):\n",
        "  model.train()\n",
        "  pbar = tqdm(train_loader)\n",
        "  correct = 0\n",
        "  processed = 0\n",
        "  for batch_idx, (data, target) in enumerate(pbar):\n",
        "    # get samples\n",
        "    data, target = data.to(device), target.to(device)\n",
        "\n",
        "    # Init\n",
        "    optimizer.zero_grad()\n",
        "    # In PyTorch, we need to set the gradients to zero before starting to do backpropragation because PyTorch accumulates the gradients on subsequent backward passes. \n",
        "    # Because of this, when you start your training loop, ideally you should zero out the gradients so that you do the parameter update correctly.\n",
        "\n",
        "    # Predict\n",
        "    y_pred = model(data)\n",
        "\n",
        "    # Calculate loss\n",
        "    loss = F.nll_loss(y_pred, target)\n",
        "    train_losses.append(loss)\n",
        "\n",
        "    # Backpropagation\n",
        "    loss.backward()\n",
        "    optimizer.step()\n",
        "\n",
        "    # Update pbar-tqdm\n",
        "    \n",
        "    pred = y_pred.argmax(dim=1, keepdim=True)  # get the index of the max log-probability\n",
        "    correct += pred.eq(target.view_as(pred)).sum().item()\n",
        "    processed += len(data)\n",
        "\n",
        "    train_acc.append(100*correct/processed)\n",
        "    pbar.set_description(desc=f'Loss={loss.item():0.4f} Batch_ID={batch_idx} Accuracy={train_acc[-1]:.2f}')\n",
        "\n",
        "def test(model, device, test_loader):\n",
        "    model.eval()\n",
        "    test_loss = 0\n",
        "    correct = 0\n",
        "    with torch.no_grad():\n",
        "        for data, target in test_loader:\n",
        "            data, target = data.to(device), target.to(device)\n",
        "            output = model(data)\n",
        "            test_loss += F.nll_loss(output, target, reduction='sum').item()  # sum up batch loss\n",
        "            pred = output.argmax(dim=1, keepdim=True)  # get the index of the max log-probability\n",
        "            correct += pred.eq(target.view_as(pred)).sum().item()\n",
        "\n",
        "    test_loss /= len(test_loader.dataset)\n",
        "    test_losses.append(test_loss)\n",
        "    test_acc.append(100. * correct / len(test_loader.dataset))\n",
        "    print(f'\\nTest set: Average loss: {test_loss:.4f}, Accuracy: {correct}/{len(test_loader.dataset)} ({test_acc[-1]:.2f}%)\\n')"
      ],
      "execution_count": 84,
      "outputs": []
    },
    {
      "cell_type": "markdown",
      "metadata": {
        "id": "drokW8wWODKq",
        "colab_type": "text"
      },
      "source": [
        "# Let's Train and test our model"
      ]
    },
    {
      "cell_type": "code",
      "metadata": {
        "id": "xMCFxeAKOB53",
        "colab_type": "code",
        "colab": {
          "base_uri": "https://localhost:8080/",
          "height": 1000
        },
        "outputId": "d21800e9-dd5e-46ca-d5d8-00dd5cfe26a0"
      },
      "source": [
        "model =  Net().to(device)\n",
        "optimizer = optim.SGD(model.parameters(), lr=0.01, momentum=0.9)\n",
        "EPOCHS = 15\n",
        "for epoch in range(EPOCHS):\n",
        "    print(\"EPOCH:\", epoch+1)\n",
        "    train(model, device, train_loader, optimizer, epoch)\n",
        "    test(model, device, test_loader)"
      ],
      "execution_count": 85,
      "outputs": [
        {
          "output_type": "stream",
          "text": [
            "\r  0%|          | 0/469 [00:00<?, ?it/s]"
          ],
          "name": "stderr"
        },
        {
          "output_type": "stream",
          "text": [
            "EPOCH: 1\n"
          ],
          "name": "stdout"
        },
        {
          "output_type": "stream",
          "text": [
            "Loss=0.0676 Batch_ID=468 Accuracy=70.02: 100%|██████████| 469/469 [00:20<00:00, 22.57it/s]\n",
            "  0%|          | 0/469 [00:00<?, ?it/s]"
          ],
          "name": "stderr"
        },
        {
          "output_type": "stream",
          "text": [
            "\n",
            "Test set: Average loss: 0.1078, Accuracy: 9648/10000 (96.48%)\n",
            "\n",
            "EPOCH: 2\n"
          ],
          "name": "stdout"
        },
        {
          "output_type": "stream",
          "text": [
            "Loss=0.0234 Batch_ID=468 Accuracy=97.53: 100%|██████████| 469/469 [00:20<00:00, 22.64it/s]\n",
            "  0%|          | 0/469 [00:00<?, ?it/s]"
          ],
          "name": "stderr"
        },
        {
          "output_type": "stream",
          "text": [
            "\n",
            "Test set: Average loss: 0.0580, Accuracy: 9805/10000 (98.05%)\n",
            "\n",
            "EPOCH: 3\n"
          ],
          "name": "stdout"
        },
        {
          "output_type": "stream",
          "text": [
            "Loss=0.0789 Batch_ID=468 Accuracy=98.42: 100%|██████████| 469/469 [00:20<00:00, 22.73it/s]\n",
            "  0%|          | 0/469 [00:00<?, ?it/s]"
          ],
          "name": "stderr"
        },
        {
          "output_type": "stream",
          "text": [
            "\n",
            "Test set: Average loss: 0.0455, Accuracy: 9863/10000 (98.63%)\n",
            "\n",
            "EPOCH: 4\n"
          ],
          "name": "stdout"
        },
        {
          "output_type": "stream",
          "text": [
            "Loss=0.0932 Batch_ID=468 Accuracy=98.90: 100%|██████████| 469/469 [00:20<00:00, 22.39it/s]\n",
            "  0%|          | 0/469 [00:00<?, ?it/s]"
          ],
          "name": "stderr"
        },
        {
          "output_type": "stream",
          "text": [
            "\n",
            "Test set: Average loss: 0.0379, Accuracy: 9869/10000 (98.69%)\n",
            "\n",
            "EPOCH: 5\n"
          ],
          "name": "stdout"
        },
        {
          "output_type": "stream",
          "text": [
            "Loss=0.0084 Batch_ID=468 Accuracy=99.18: 100%|██████████| 469/469 [00:20<00:00, 22.43it/s]\n",
            "  0%|          | 0/469 [00:00<?, ?it/s]"
          ],
          "name": "stderr"
        },
        {
          "output_type": "stream",
          "text": [
            "\n",
            "Test set: Average loss: 0.0358, Accuracy: 9885/10000 (98.85%)\n",
            "\n",
            "EPOCH: 6\n"
          ],
          "name": "stdout"
        },
        {
          "output_type": "stream",
          "text": [
            "Loss=0.0649 Batch_ID=468 Accuracy=99.37: 100%|██████████| 469/469 [00:20<00:00, 22.53it/s]\n",
            "  0%|          | 0/469 [00:00<?, ?it/s]"
          ],
          "name": "stderr"
        },
        {
          "output_type": "stream",
          "text": [
            "\n",
            "Test set: Average loss: 0.0390, Accuracy: 9877/10000 (98.77%)\n",
            "\n",
            "EPOCH: 7\n"
          ],
          "name": "stdout"
        },
        {
          "output_type": "stream",
          "text": [
            "Loss=0.0001 Batch_ID=468 Accuracy=99.52: 100%|██████████| 469/469 [00:20<00:00, 22.40it/s]\n",
            "  0%|          | 0/469 [00:00<?, ?it/s]"
          ],
          "name": "stderr"
        },
        {
          "output_type": "stream",
          "text": [
            "\n",
            "Test set: Average loss: 0.0395, Accuracy: 9889/10000 (98.89%)\n",
            "\n",
            "EPOCH: 8\n"
          ],
          "name": "stdout"
        },
        {
          "output_type": "stream",
          "text": [
            "Loss=0.0195 Batch_ID=468 Accuracy=99.59: 100%|██████████| 469/469 [00:20<00:00, 22.65it/s]\n",
            "  0%|          | 0/469 [00:00<?, ?it/s]"
          ],
          "name": "stderr"
        },
        {
          "output_type": "stream",
          "text": [
            "\n",
            "Test set: Average loss: 0.0367, Accuracy: 9903/10000 (99.03%)\n",
            "\n",
            "EPOCH: 9\n"
          ],
          "name": "stdout"
        },
        {
          "output_type": "stream",
          "text": [
            "Loss=0.0080 Batch_ID=468 Accuracy=99.69: 100%|██████████| 469/469 [00:20<00:00, 22.49it/s]\n",
            "  0%|          | 0/469 [00:00<?, ?it/s]"
          ],
          "name": "stderr"
        },
        {
          "output_type": "stream",
          "text": [
            "\n",
            "Test set: Average loss: 0.0487, Accuracy: 9865/10000 (98.65%)\n",
            "\n",
            "EPOCH: 10\n"
          ],
          "name": "stdout"
        },
        {
          "output_type": "stream",
          "text": [
            "Loss=0.0032 Batch_ID=468 Accuracy=99.71: 100%|██████████| 469/469 [00:20<00:00, 22.45it/s]\n",
            "  0%|          | 0/469 [00:00<?, ?it/s]"
          ],
          "name": "stderr"
        },
        {
          "output_type": "stream",
          "text": [
            "\n",
            "Test set: Average loss: 0.0360, Accuracy: 9904/10000 (99.04%)\n",
            "\n",
            "EPOCH: 11\n"
          ],
          "name": "stdout"
        },
        {
          "output_type": "stream",
          "text": [
            "Loss=0.0399 Batch_ID=468 Accuracy=99.74: 100%|██████████| 469/469 [00:20<00:00, 22.52it/s]\n",
            "  0%|          | 0/469 [00:00<?, ?it/s]"
          ],
          "name": "stderr"
        },
        {
          "output_type": "stream",
          "text": [
            "\n",
            "Test set: Average loss: 0.0410, Accuracy: 9895/10000 (98.95%)\n",
            "\n",
            "EPOCH: 12\n"
          ],
          "name": "stdout"
        },
        {
          "output_type": "stream",
          "text": [
            "Loss=0.0058 Batch_ID=468 Accuracy=99.76: 100%|██████████| 469/469 [00:20<00:00, 22.35it/s]\n",
            "  0%|          | 0/469 [00:00<?, ?it/s]"
          ],
          "name": "stderr"
        },
        {
          "output_type": "stream",
          "text": [
            "\n",
            "Test set: Average loss: 0.0458, Accuracy: 9895/10000 (98.95%)\n",
            "\n",
            "EPOCH: 13\n"
          ],
          "name": "stdout"
        },
        {
          "output_type": "stream",
          "text": [
            "Loss=0.0002 Batch_ID=468 Accuracy=99.87: 100%|██████████| 469/469 [00:21<00:00, 22.07it/s]\n",
            "  0%|          | 0/469 [00:00<?, ?it/s]"
          ],
          "name": "stderr"
        },
        {
          "output_type": "stream",
          "text": [
            "\n",
            "Test set: Average loss: 0.0553, Accuracy: 9867/10000 (98.67%)\n",
            "\n",
            "EPOCH: 14\n"
          ],
          "name": "stdout"
        },
        {
          "output_type": "stream",
          "text": [
            "Loss=0.0009 Batch_ID=468 Accuracy=99.79: 100%|██████████| 469/469 [00:21<00:00, 21.88it/s]\n",
            "  0%|          | 0/469 [00:00<?, ?it/s]"
          ],
          "name": "stderr"
        },
        {
          "output_type": "stream",
          "text": [
            "\n",
            "Test set: Average loss: 0.0373, Accuracy: 9898/10000 (98.98%)\n",
            "\n",
            "EPOCH: 15\n"
          ],
          "name": "stdout"
        },
        {
          "output_type": "stream",
          "text": [
            "Loss=0.0002 Batch_ID=468 Accuracy=99.88: 100%|██████████| 469/469 [00:21<00:00, 22.27it/s]\n"
          ],
          "name": "stderr"
        },
        {
          "output_type": "stream",
          "text": [
            "\n",
            "Test set: Average loss: 0.0388, Accuracy: 9914/10000 (99.14%)\n",
            "\n"
          ],
          "name": "stdout"
        }
      ]
    },
    {
      "cell_type": "code",
      "metadata": {
        "id": "87RaqGSEOWDe",
        "colab_type": "code",
        "colab": {
          "base_uri": "https://localhost:8080/",
          "height": 624
        },
        "outputId": "39c89af7-8000-46c1-96e5-1637e4deeee0"
      },
      "source": [
        "fig, axs = plt.subplots(2,2,figsize=(15,10))\n",
        "axs[0, 0].plot(train_losses)\n",
        "axs[0, 0].set_title(\"Training Loss\")\n",
        "axs[1, 0].plot(train_acc)\n",
        "axs[1, 0].set_title(\"Training Accuracy\")\n",
        "axs[0, 1].plot(test_losses)\n",
        "axs[0, 1].set_title(\"Test Loss\")\n",
        "axs[1, 1].plot(test_acc)\n",
        "axs[1, 1].set_title(\"Test Accuracy\")"
      ],
      "execution_count": 86,
      "outputs": [
        {
          "output_type": "execute_result",
          "data": {
            "text/plain": [
              "Text(0.5, 1.0, 'Test Accuracy')"
            ]
          },
          "metadata": {
            "tags": []
          },
          "execution_count": 86
        },
        {
          "output_type": "display_data",
          "data": {
            "image/png": "[encoded data removed]",
            "text/plain": [
              "<Figure size 1080x720 with 4 Axes>"
            ]
          },
          "metadata": {
            "tags": [],
            "needs_background": "light"
          }
        }
      ]
    },
    {
      "cell_type": "code",
      "metadata": {
        "id": "odozjbIvY12p",
        "colab_type": "code",
        "colab": {}
      },
      "source": [
        ""
      ],
      "execution_count": null,
      "outputs": []
    }
  ]
}