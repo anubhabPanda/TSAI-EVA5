{
  "nbformat": 4,
  "nbformat_minor": 0,
  "metadata": {
    "colab": {
      "name": "Step3.ipynb",
      "provenance": [],
      "collapsed_sections": []
    },
    "kernelspec": {
      "name": "python3",
      "display_name": "Python 3"
    },
    "accelerator": "GPU"
  },
  "cells": [
    {
      "cell_type": "markdown",
      "metadata": {
        "id": "rtazV2N5pELO",
        "colab_type": "text"
      },
      "source": [
        "# Step3"
      ]
    },
    {
      "cell_type": "markdown",
      "metadata": {
        "id": "yec7Qt08pHqo",
        "colab_type": "text"
      },
      "source": [
        "### Target\n",
        "\n",
        "1. Apply Batch Norm after every convolution layer except the last layer before output to improve accuracy \n",
        "2. Apply dropouts if there is overfitting after applying batch norm\n",
        "\n",
        "### Results\n",
        "\n",
        "1. Parameters: 9,904\n",
        "2. Best Training Accuracy: 98.75\n",
        "3. Best Test Accuracy: 99.24\n",
        "\n",
        "### Analysis\n",
        "\n",
        "1. Good model but still we haven't been able to reach our target accuracy\n",
        "2. Applied low dropout to prevent overfitting and for model stability\n",
        "3. We can still increase the accuracy further\n",
        "4. We can't increase the model capacity any further. We have to rely on some other method to increase the accuracy further\n",
        "5. We can decrease batch size and try image augmentations"
      ]
    },
    {
      "cell_type": "markdown",
      "metadata": {
        "id": "aO-7t1Y7-hV4",
        "colab_type": "text"
      },
      "source": [
        "# Import Libraries\n",
        "Import the necessary packages"
      ]
    },
    {
      "cell_type": "code",
      "metadata": {
        "id": "8kH16rnZ7wt_",
        "colab_type": "code",
        "colab": {}
      },
      "source": [
        "from __future__ import print_function\n",
        "import torch\n",
        "import torch.nn as nn\n",
        "import torch.nn.functional as F\n",
        "import torch.optim as optim\n",
        "from torchvision import datasets, transforms\n",
        "from torchsummary import summary\n",
        "import matplotlib.pyplot as plt\n",
        "from tqdm import tqdm\n",
        "import numpy as np\n",
        "import pandas as pd\n",
        "import seaborn as sns\n",
        "%matplotlib inline"
      ],
      "execution_count": 69,
      "outputs": []
    },
    {
      "cell_type": "markdown",
      "metadata": {
        "id": "oQciFYo2B1mO",
        "colab_type": "text"
      },
      "source": [
        "# Read Dataset and Create Train/Test Split"
      ]
    },
    {
      "cell_type": "code",
      "metadata": {
        "id": "_4A84rlfDA23",
        "colab_type": "code",
        "colab": {}
      },
      "source": [
        "train = datasets.MNIST('./data', train=True, download=True)\n",
        "test = datasets.MNIST('./data', train=False, download=True)"
      ],
      "execution_count": 70,
      "outputs": []
    },
    {
      "cell_type": "markdown",
      "metadata": {
        "id": "-TFjoFekE_va",
        "colab_type": "text"
      },
      "source": [
        "# Data Statistics and Visualization\n",
        "\n",
        "Let us check some of the summary statistics for our data. It will help us to set initial transform. We can also visualize some sample images to get an idea of what transforms we can apply later."
      ]
    },
    {
      "cell_type": "code",
      "metadata": {
        "id": "hWZPPo3yEHDW",
        "colab_type": "code",
        "colab": {}
      },
      "source": [
        "# Function to get summary statistics\n",
        "def get_summary_stats(sample_data, data_label=\"Sample Data\"):\n",
        "  \"\"\"\n",
        "  Function to get summary statistics from a given data\n",
        "\n",
        "  Args\n",
        "  ----\n",
        "  sample_data: Tensor\n",
        "  data_label: str\n",
        "\n",
        "  Returns\n",
        "  -------\n",
        "  None\n",
        "  \"\"\"\n",
        "  sample = sample_data.data\n",
        "  sample = sample.numpy()\n",
        "  # Normalizing data between 0 and 1\n",
        "  sample = sample/255\n",
        "  print(f'Summary Statistics for {data_label}')\n",
        "  print(' - Numpy Shape:', sample.shape)\n",
        "  print(' - Tensor Shape:', sample.size)\n",
        "  print(' - min:', np.min(sample))\n",
        "  print(' - max:', np.max(sample))\n",
        "  print(' - mean:', np.mean(sample))\n",
        "  print(' - std:', np.std(sample))\n",
        "  print(' - var:', np.var(sample))\n"
      ],
      "execution_count": 71,
      "outputs": []
    },
    {
      "cell_type": "code",
      "metadata": {
        "id": "CQFIL7-ixtKt",
        "colab_type": "code",
        "colab": {
          "base_uri": "https://localhost:8080/",
          "height": 487
        },
        "outputId": "5d220b4e-bfe5-4d54-a43f-0b840686f38d"
      },
      "source": [
        "combined_data = torch.cat([train.data, test.data])\n",
        "get_summary_stats(train.data, data_label=\"Training Dataset\")\n",
        "print(\"\\n\")\n",
        "get_summary_stats(test.data, data_label=\"Test Dataset\")\n",
        "print(\"\\n\")\n",
        "get_summary_stats(combined_data, data_label=\"Complete Dataset\")"
      ],
      "execution_count": 72,
      "outputs": [
        {
          "output_type": "stream",
          "text": [
            "Summary Statistics for Training Dataset\n",
            " - Numpy Shape: (60000, 28, 28)\n",
            " - Tensor Shape: 47040000\n",
            " - min: 0.0\n",
            " - max: 1.0\n",
            " - mean: 0.1306604762738429\n",
            " - std: 0.3081078038564622\n",
            " - var: 0.09493041879725218\n",
            "\n",
            "\n",
            "Summary Statistics for Test Dataset\n",
            " - Numpy Shape: (10000, 28, 28)\n",
            " - Tensor Shape: 7840000\n",
            " - min: 0.0\n",
            " - max: 1.0\n",
            " - mean: 0.13251460584233699\n",
            " - std: 0.3104802479305348\n",
            " - var: 0.09639798435500636\n",
            "\n",
            "\n",
            "Summary Statistics for Complete Dataset\n",
            " - Numpy Shape: (70000, 28, 28)\n",
            " - Tensor Shape: 54880000\n",
            " - min: 0.0\n",
            " - max: 1.0\n",
            " - mean: 0.13092535192648502\n",
            " - std: 0.3084485240270358\n",
            " - var: 0.0951404919744569\n"
          ],
          "name": "stdout"
        }
      ]
    },
    {
      "cell_type": "code",
      "metadata": {
        "id": "RQlcjBWQ1FWz",
        "colab_type": "code",
        "colab": {
          "base_uri": "https://localhost:8080/",
          "height": 367
        },
        "outputId": "6b90ca72-6ef9-420e-88cf-ced253a1c075"
      },
      "source": [
        "fig, ax = plt.subplots(figsize = (14, 5))\n",
        "count_plot = sns.countplot(pd.Series(train.targets.numpy()), color=\"#3274a1\", ax = ax)\n",
        "ax.set_xlabel(\"Class\")\n",
        "ax.set_ylabel(\"Count of class\")\n",
        "ax.set_title(\"Countplot for classes in training set\")"
      ],
      "execution_count": 73,
      "outputs": [
        {
          "output_type": "execute_result",
          "data": {
            "text/plain": [
              "Text(0.5, 1.0, 'Countplot for classes in training set')"
            ]
          },
          "metadata": {
            "tags": []
          },
          "execution_count": 73
        },
        {
          "output_type": "display_data",
          "data": {
            "image/png": "[encoded data removed]",
            "text/plain": [
              "<Figure size 1008x360 with 1 Axes>"
            ]
          },
          "metadata": {
            "tags": [],
            "needs_background": "light"
          }
        }
      ]
    },
    {
      "cell_type": "markdown",
      "metadata": {
        "id": "_NTCBwsn47hf",
        "colab_type": "text"
      },
      "source": [
        "### Inference\n",
        "The classes are almost balanced. No need for any class imbalance tricks"
      ]
    },
    {
      "cell_type": "markdown",
      "metadata": {
        "id": "_WlLQMDX6ISg",
        "colab_type": "text"
      },
      "source": [
        "Now lets visualize some of the images"
      ]
    },
    {
      "cell_type": "code",
      "metadata": {
        "id": "smqff6lJ46PI",
        "colab_type": "code",
        "colab": {
          "base_uri": "https://localhost:8080/",
          "height": 357
        },
        "outputId": "6a922899-98af-4ded-b68b-b6c47ff9430d"
      },
      "source": [
        "figure = plt.figure(figsize=(10, 6))\n",
        "num_of_images = 60\n",
        "for index in range(1, num_of_images + 1):\n",
        "    plt.subplot(6, 10, index)\n",
        "    plt.axis('off')\n",
        "    plt.imshow(train.data.numpy()[index], cmap='gray_r')\n",
        "#Deleting the combined data since its of no use any longer\n",
        "del combined_data"
      ],
      "execution_count": 74,
      "outputs": [
        {
          "output_type": "display_data",
          "data": {
            "image/png": "[encoded data removed]",
            "text/plain": [
              "<Figure size 720x432 with 60 Axes>"
            ]
          },
          "metadata": {
            "tags": [],
            "needs_background": "light"
          }
        }
      ]
    },
    {
      "cell_type": "markdown",
      "metadata": {
        "id": "WaXMkAQt6oZW",
        "colab_type": "text"
      },
      "source": [
        "# Setting Transforms\n",
        "Now we can set transforms from the summary statistics. We will be applying the following transformations: \n",
        "* ToTensor() : It converts PIL image or numpy array to FloatTensor in the range of [0.0, 1.0]\n",
        "* Normalize: It normalizes each channel of an input given a mean and std deviation. We have already ascertained the mean and std deviation of the dataset to be 0.1309 ad 0.3084"
      ]
    },
    {
      "cell_type": "code",
      "metadata": {
        "id": "YtssFUKb-jqx",
        "colab_type": "code",
        "colab": {}
      },
      "source": [
        "# Train Phase transformations\n",
        "train_transforms = transforms.Compose([\n",
        "                                       transforms.ToTensor(),  \n",
        "                                       transforms.Normalize((0.1309,), (0.3084,))\n",
        "                                       ])\n",
        "\n",
        "# Test Phase transformations\n",
        "test_transforms = transforms.Compose([\n",
        "                                       transforms.ToTensor(),\n",
        "                                       transforms.Normalize((0.1309,), (0.3084,))\n",
        "                                       ])"
      ],
      "execution_count": 75,
      "outputs": []
    },
    {
      "cell_type": "code",
      "metadata": {
        "id": "eF6Wu_Ns9SzG",
        "colab_type": "code",
        "colab": {}
      },
      "source": [
        "#Read data and apply the above transforms\n",
        "train = datasets.MNIST('./data', train=True, download=True, transform=train_transforms)\n",
        "test = datasets.MNIST('./data', train=False, download=True, transform=test_transforms)"
      ],
      "execution_count": 84,
      "outputs": []
    },
    {
      "cell_type": "markdown",
      "metadata": {
        "id": "qgldp_3-Dn0c",
        "colab_type": "text"
      },
      "source": [
        "# Set Dataloader Arguments & Create Test/Train Dataloaders\n"
      ]
    },
    {
      "cell_type": "code",
      "metadata": {
        "id": "C8OLDR79DrHG",
        "colab_type": "code",
        "colab": {
          "base_uri": "https://localhost:8080/",
          "height": 50
        },
        "outputId": "4aca4846-cfc7-4ca5-a1f8-b3463421fca2"
      },
      "source": [
        "# Set the manual seed\n",
        "SEED = 1\n",
        "# Initialize batch size\n",
        "bs = 128\n",
        "# Check for availability of cuda\n",
        "cuda = torch.cuda.is_available()\n",
        "print(\" Is CUDA Available ?\\n\", cuda)\n",
        "\n",
        "# For reproducibility\n",
        "torch.manual_seed(SEED)\n",
        "\n",
        "if cuda:\n",
        "    torch.cuda.manual_seed(SEED)\n",
        "\n",
        "# Setting the dataloader arguments\n",
        "dataloader_args = dict(shuffle=True, batch_size=bs, num_workers=4, pin_memory=True) if cuda else dict(shuffle=True, batch_size=64)\n",
        "\n",
        "# train dataloader\n",
        "train_loader = torch.utils.data.DataLoader(train, **dataloader_args)\n",
        "\n",
        "# test dataloader\n",
        "test_loader = torch.utils.data.DataLoader(test, **dataloader_args)"
      ],
      "execution_count": 85,
      "outputs": [
        {
          "output_type": "stream",
          "text": [
            " Is CUDA Available ?\n",
            " True\n"
          ],
          "name": "stdout"
        }
      ]
    },
    {
      "cell_type": "markdown",
      "metadata": {
        "id": "ubQL3H6RJL3h",
        "colab_type": "text"
      },
      "source": [
        "# The model architecture\n",
        "Now we can setup or initial model skeleton"
      ]
    },
    {
      "cell_type": "code",
      "metadata": {
        "id": "7FXQlB9kH1ov",
        "colab_type": "code",
        "colab": {}
      },
      "source": [
        "dropout_value = 0.1\n",
        "class Net(nn.Module):\n",
        "    def __init__(self):\n",
        "      \"\"\"\n",
        "      Initializes all the model layers\n",
        "      \"\"\"\n",
        "      #Inheriting from the nn.Module class\n",
        "      super(Net, self).__init__()\n",
        "      \n",
        "      #Convolution Block 1\n",
        "      self.conv1 = nn.Sequential(\n",
        "          nn.Conv2d(in_channels=1, out_channels=16, kernel_size=3, bias=False, padding=1),\n",
        "          nn.BatchNorm2d(16),\n",
        "          nn.ReLU(),\n",
        "          nn.Dropout(dropout_value)\n",
        "      ) #Input: 28X28X1 | Output: 28X28X16 | RF: 3\n",
        "\n",
        "      #Convolution Block 2\n",
        "      self.conv2 = nn.Sequential(\n",
        "          nn.Conv2d(in_channels=16, out_channels=24, kernel_size=3, bias=False, padding=0),\n",
        "          nn.BatchNorm2d(24),\n",
        "          nn.ReLU(),\n",
        "          nn.Dropout(dropout_value)\n",
        "\n",
        "      ) #Input: 28X28X16 | Output: 26X26X24 | RF: 5\n",
        "      \n",
        "      #Transition Block 1\n",
        "      self.pool1 = nn.MaxPool2d(2, 2) #Input: 26X26X24 | Output: 13X13X24 | RF: 6\n",
        "      self.conv4 = nn.Sequential(\n",
        "          nn.Conv2d(in_channels=24, out_channels=8, kernel_size=1, bias=False),\n",
        "          nn.BatchNorm2d(8),         \n",
        "          nn.ReLU(),\n",
        "          nn.Dropout(dropout_value)\n",
        "      ) #Input: 13X13X24 | Output: 13X13X8 | RF: 6\n",
        "\n",
        "      #Convolution Block 3\n",
        "      self.conv3 = nn.Sequential(\n",
        "          nn.Conv2d(in_channels=8, out_channels=16, kernel_size=3, bias=False, padding=0),\n",
        "          nn.BatchNorm2d(16),\n",
        "          nn.ReLU(),\n",
        "          nn.Dropout(dropout_value)\n",
        "      ) #Input: 13X13X8 | Output: 11X11X16 | RF: 10\n",
        "\n",
        "      #Convolution Block 4\n",
        "      self.conv5 = nn.Sequential(\n",
        "          nn.Conv2d(in_channels=16, out_channels=16, kernel_size=3, bias=False, padding=0),\n",
        "          nn.BatchNorm2d(16),\n",
        "          nn.ReLU(),\n",
        "          nn.Dropout(dropout_value)\n",
        "      ) #Input: 11X11X16 | Output: 9X9X16 | RF: 14\n",
        "\n",
        "      #Convolution Block 5\n",
        "      self.conv6 = nn.Sequential(\n",
        "          nn.Conv2d(in_channels=16, out_channels=16, kernel_size=3, bias=False, padding=0),\n",
        "          nn.BatchNorm2d(16),\n",
        "          nn.ReLU(),\n",
        "          nn.Dropout(dropout_value)\n",
        "      ) #Input: 9X9X16 | Output: 7X7X16 | RF: 18\n",
        "\n",
        "      #Output Block\n",
        "      self.conv7 = nn.Sequential(\n",
        "          nn.AvgPool2d(kernel_size=7)\n",
        "      ) #Input: 7X7X16 | Output: 1X1X16 | RF: 30\n",
        "      \n",
        "      self.conv8 = nn.Sequential(\n",
        "          nn.Conv2d(in_channels=16, out_channels=10, kernel_size=1, bias=False, padding=0)\n",
        "      ) #Input: 1X1X16 | Output: 1X1X10 | RF: 30\n",
        "\n",
        "\n",
        "    def forward(self, x):\n",
        "        x = self.conv1(x)\n",
        "        x = self.conv2(x)\n",
        "        x = self.pool1(x)\n",
        "        x = self.conv4(x)\n",
        "        x = self.conv3(x)\n",
        "        x = self.conv5(x)\n",
        "        x = self.conv6(x)\n",
        "        x = self.conv7(x)\n",
        "        x = self.conv8(x)\n",
        "        x = x.view(-1, 10)\n",
        "        return F.log_softmax(x, dim=-1)"
      ],
      "execution_count": 86,
      "outputs": []
    },
    {
      "cell_type": "markdown",
      "metadata": {
        "id": "M3-vp8X9LCWo",
        "colab_type": "text"
      },
      "source": [
        "# Model Params\n",
        "We can now check the model summary and see the total number of parameters"
      ]
    },
    {
      "cell_type": "code",
      "metadata": {
        "id": "5skB97zIJQQe",
        "colab_type": "code",
        "colab": {
          "base_uri": "https://localhost:8080/",
          "height": 706
        },
        "outputId": "208301a7-28f9-4ef1-9944-a810f699e097"
      },
      "source": [
        "use_cuda = torch.cuda.is_available()\n",
        "device = torch.device(\"cuda\" if use_cuda else \"cpu\") #Use cuda if available else use cpu\n",
        "print(device)\n",
        "model = Net().to(device) #Sending the model to cuda if available otherwise use cpu\n",
        "summary(model, input_size=(1, 28, 28))"
      ],
      "execution_count": 87,
      "outputs": [
        {
          "output_type": "stream",
          "text": [
            "cuda\n",
            "----------------------------------------------------------------\n",
            "        Layer (type)               Output Shape         Param #\n",
            "================================================================\n",
            "            Conv2d-1           [-1, 16, 28, 28]             144\n",
            "       BatchNorm2d-2           [-1, 16, 28, 28]              32\n",
            "              ReLU-3           [-1, 16, 28, 28]               0\n",
            "           Dropout-4           [-1, 16, 28, 28]               0\n",
            "            Conv2d-5           [-1, 24, 26, 26]           3,456\n",
            "       BatchNorm2d-6           [-1, 24, 26, 26]              48\n",
            "              ReLU-7           [-1, 24, 26, 26]               0\n",
            "           Dropout-8           [-1, 24, 26, 26]               0\n",
            "         MaxPool2d-9           [-1, 24, 13, 13]               0\n",
            "           Conv2d-10            [-1, 8, 13, 13]             192\n",
            "      BatchNorm2d-11            [-1, 8, 13, 13]              16\n",
            "             ReLU-12            [-1, 8, 13, 13]               0\n",
            "          Dropout-13            [-1, 8, 13, 13]               0\n",
            "           Conv2d-14           [-1, 16, 11, 11]           1,152\n",
            "      BatchNorm2d-15           [-1, 16, 11, 11]              32\n",
            "             ReLU-16           [-1, 16, 11, 11]               0\n",
            "          Dropout-17           [-1, 16, 11, 11]               0\n",
            "           Conv2d-18             [-1, 16, 9, 9]           2,304\n",
            "      BatchNorm2d-19             [-1, 16, 9, 9]              32\n",
            "             ReLU-20             [-1, 16, 9, 9]               0\n",
            "          Dropout-21             [-1, 16, 9, 9]               0\n",
            "           Conv2d-22             [-1, 16, 7, 7]           2,304\n",
            "      BatchNorm2d-23             [-1, 16, 7, 7]              32\n",
            "             ReLU-24             [-1, 16, 7, 7]               0\n",
            "          Dropout-25             [-1, 16, 7, 7]               0\n",
            "        AvgPool2d-26             [-1, 16, 1, 1]               0\n",
            "           Conv2d-27             [-1, 10, 1, 1]             160\n",
            "================================================================\n",
            "Total params: 9,904\n",
            "Trainable params: 9,904\n",
            "Non-trainable params: 0\n",
            "----------------------------------------------------------------\n",
            "Input size (MB): 0.00\n",
            "Forward/backward pass size (MB): 1.07\n",
            "Params size (MB): 0.04\n",
            "Estimated Total Size (MB): 1.11\n",
            "----------------------------------------------------------------\n"
          ],
          "name": "stdout"
        }
      ]
    },
    {
      "cell_type": "markdown",
      "metadata": {
        "id": "1__x_SbrL7z3",
        "colab_type": "text"
      },
      "source": [
        "# Training and Testing\n",
        "\n",
        "All right, so we have 9.9k params, and that's below our target. That's good\n",
        "Let's write train and test functions and check our model performance"
      ]
    },
    {
      "cell_type": "code",
      "metadata": {
        "id": "fbkF2nN_LYIb",
        "colab_type": "code",
        "colab": {}
      },
      "source": [
        "train_losses = []\n",
        "test_losses = []\n",
        "train_acc = []\n",
        "test_acc = []\n",
        "\n",
        "def train(model, device, train_loader, optimizer, epoch):\n",
        "  model.train()\n",
        "  pbar = tqdm(train_loader)\n",
        "  correct = 0\n",
        "  processed = 0\n",
        "  for batch_idx, (data, target) in enumerate(pbar):\n",
        "    # get samples\n",
        "    data, target = data.to(device), target.to(device)\n",
        "\n",
        "    # Init\n",
        "    optimizer.zero_grad()\n",
        "    # In PyTorch, we need to set the gradients to zero before starting to do backpropragation because PyTorch accumulates the gradients on subsequent backward passes. \n",
        "    # Because of this, when you start your training loop, ideally you should zero out the gradients so that you do the parameter update correctly.\n",
        "\n",
        "    # Predict\n",
        "    y_pred = model(data)\n",
        "\n",
        "    # Calculate loss\n",
        "    loss = F.nll_loss(y_pred, target)\n",
        "    train_losses.append(loss)\n",
        "\n",
        "    # Backpropagation\n",
        "    loss.backward()\n",
        "    optimizer.step()\n",
        "\n",
        "    # Update pbar-tqdm\n",
        "    \n",
        "    pred = y_pred.argmax(dim=1, keepdim=True)  # get the index of the max log-probability\n",
        "    correct += pred.eq(target.view_as(pred)).sum().item()\n",
        "    processed += len(data)\n",
        "\n",
        "    train_acc.append(100*correct/processed)\n",
        "    pbar.set_description(desc=f'Loss={loss.item():0.4f} Batch_ID={batch_idx} Accuracy={train_acc[-1]:.2f}')\n",
        "\n",
        "def test(model, device, test_loader):\n",
        "    model.eval()\n",
        "    test_loss = 0\n",
        "    correct = 0\n",
        "    with torch.no_grad():\n",
        "        for data, target in test_loader:\n",
        "            data, target = data.to(device), target.to(device)\n",
        "            output = model(data)\n",
        "            test_loss += F.nll_loss(output, target, reduction='sum').item()  # sum up batch loss\n",
        "            pred = output.argmax(dim=1, keepdim=True)  # get the index of the max log-probability\n",
        "            correct += pred.eq(target.view_as(pred)).sum().item()\n",
        "\n",
        "    test_loss /= len(test_loader.dataset)\n",
        "    test_losses.append(test_loss)\n",
        "    test_acc.append(100. * correct / len(test_loader.dataset))\n",
        "    print(f'\\nTest set: Average loss: {test_loss:.4f}, Accuracy: {correct}/{len(test_loader.dataset)} ({test_acc[-1]:.2f}%)\\n')"
      ],
      "execution_count": 88,
      "outputs": []
    },
    {
      "cell_type": "markdown",
      "metadata": {
        "id": "drokW8wWODKq",
        "colab_type": "text"
      },
      "source": [
        "# Let's Train and test our model"
      ]
    },
    {
      "cell_type": "code",
      "metadata": {
        "id": "xMCFxeAKOB53",
        "colab_type": "code",
        "colab": {
          "base_uri": "https://localhost:8080/",
          "height": 1000
        },
        "outputId": "e2957323-d00f-4b6e-fad5-387d1d39185d"
      },
      "source": [
        "model =  Net().to(device)\n",
        "optimizer = optim.SGD(model.parameters(), lr=0.01, momentum=0.9)\n",
        "EPOCHS = 15\n",
        "for epoch in range(EPOCHS):\n",
        "    print(\"EPOCH:\", epoch+1)\n",
        "    train(model, device, train_loader, optimizer, epoch)\n",
        "    test(model, device, test_loader)"
      ],
      "execution_count": 89,
      "outputs": [
        {
          "output_type": "stream",
          "text": [
            "\r  0%|          | 0/469 [00:00<?, ?it/s]"
          ],
          "name": "stderr"
        },
        {
          "output_type": "stream",
          "text": [
            "EPOCH: 1\n"
          ],
          "name": "stdout"
        },
        {
          "output_type": "stream",
          "text": [
            "Loss=0.1830 Batch_ID=468 Accuracy=75.40: 100%|██████████| 469/469 [00:11<00:00, 39.71it/s]\n",
            "  0%|          | 0/469 [00:00<?, ?it/s]"
          ],
          "name": "stderr"
        },
        {
          "output_type": "stream",
          "text": [
            "\n",
            "Test set: Average loss: 0.2168, Accuracy: 9461/10000 (94.61%)\n",
            "\n",
            "EPOCH: 2\n"
          ],
          "name": "stdout"
        },
        {
          "output_type": "stream",
          "text": [
            "Loss=0.1036 Batch_ID=468 Accuracy=96.43: 100%|██████████| 469/469 [00:11<00:00, 39.33it/s]\n",
            "  0%|          | 0/469 [00:00<?, ?it/s]"
          ],
          "name": "stderr"
        },
        {
          "output_type": "stream",
          "text": [
            "\n",
            "Test set: Average loss: 0.1098, Accuracy: 9672/10000 (96.72%)\n",
            "\n",
            "EPOCH: 3\n"
          ],
          "name": "stdout"
        },
        {
          "output_type": "stream",
          "text": [
            "Loss=0.0600 Batch_ID=468 Accuracy=97.34: 100%|██████████| 469/469 [00:12<00:00, 38.75it/s]\n",
            "  0%|          | 0/469 [00:00<?, ?it/s]"
          ],
          "name": "stderr"
        },
        {
          "output_type": "stream",
          "text": [
            "\n",
            "Test set: Average loss: 0.0890, Accuracy: 9739/10000 (97.39%)\n",
            "\n",
            "EPOCH: 4\n"
          ],
          "name": "stdout"
        },
        {
          "output_type": "stream",
          "text": [
            "Loss=0.0304 Batch_ID=468 Accuracy=97.75: 100%|██████████| 469/469 [00:11<00:00, 39.83it/s]\n",
            "  0%|          | 0/469 [00:00<?, ?it/s]"
          ],
          "name": "stderr"
        },
        {
          "output_type": "stream",
          "text": [
            "\n",
            "Test set: Average loss: 0.0539, Accuracy: 9853/10000 (98.53%)\n",
            "\n",
            "EPOCH: 5\n"
          ],
          "name": "stdout"
        },
        {
          "output_type": "stream",
          "text": [
            "Loss=0.1178 Batch_ID=468 Accuracy=98.03: 100%|██████████| 469/469 [00:11<00:00, 40.05it/s]\n",
            "  0%|          | 0/469 [00:00<?, ?it/s]"
          ],
          "name": "stderr"
        },
        {
          "output_type": "stream",
          "text": [
            "\n",
            "Test set: Average loss: 0.0644, Accuracy: 9810/10000 (98.10%)\n",
            "\n",
            "EPOCH: 6\n"
          ],
          "name": "stdout"
        },
        {
          "output_type": "stream",
          "text": [
            "Loss=0.0376 Batch_ID=468 Accuracy=98.22: 100%|██████████| 469/469 [00:12<00:00, 39.00it/s]\n",
            "  0%|          | 0/469 [00:00<?, ?it/s]"
          ],
          "name": "stderr"
        },
        {
          "output_type": "stream",
          "text": [
            "\n",
            "Test set: Average loss: 0.0493, Accuracy: 9858/10000 (98.58%)\n",
            "\n",
            "EPOCH: 7\n"
          ],
          "name": "stdout"
        },
        {
          "output_type": "stream",
          "text": [
            "Loss=0.0844 Batch_ID=468 Accuracy=98.30: 100%|██████████| 469/469 [00:11<00:00, 39.57it/s]\n",
            "  0%|          | 0/469 [00:00<?, ?it/s]"
          ],
          "name": "stderr"
        },
        {
          "output_type": "stream",
          "text": [
            "\n",
            "Test set: Average loss: 0.0461, Accuracy: 9861/10000 (98.61%)\n",
            "\n",
            "EPOCH: 8\n"
          ],
          "name": "stdout"
        },
        {
          "output_type": "stream",
          "text": [
            "Loss=0.0514 Batch_ID=468 Accuracy=98.42: 100%|██████████| 469/469 [00:11<00:00, 40.02it/s]\n",
            "  0%|          | 0/469 [00:00<?, ?it/s]"
          ],
          "name": "stderr"
        },
        {
          "output_type": "stream",
          "text": [
            "\n",
            "Test set: Average loss: 0.0522, Accuracy: 9843/10000 (98.43%)\n",
            "\n",
            "EPOCH: 9\n"
          ],
          "name": "stdout"
        },
        {
          "output_type": "stream",
          "text": [
            "Loss=0.0390 Batch_ID=468 Accuracy=98.43: 100%|██████████| 469/469 [00:11<00:00, 39.11it/s]\n",
            "  0%|          | 0/469 [00:00<?, ?it/s]"
          ],
          "name": "stderr"
        },
        {
          "output_type": "stream",
          "text": [
            "\n",
            "Test set: Average loss: 0.0335, Accuracy: 9902/10000 (99.02%)\n",
            "\n",
            "EPOCH: 10\n"
          ],
          "name": "stdout"
        },
        {
          "output_type": "stream",
          "text": [
            "Loss=0.0580 Batch_ID=468 Accuracy=98.50: 100%|██████████| 469/469 [00:11<00:00, 39.96it/s]\n",
            "  0%|          | 0/469 [00:00<?, ?it/s]"
          ],
          "name": "stderr"
        },
        {
          "output_type": "stream",
          "text": [
            "\n",
            "Test set: Average loss: 0.0321, Accuracy: 9907/10000 (99.07%)\n",
            "\n",
            "EPOCH: 11\n"
          ],
          "name": "stdout"
        },
        {
          "output_type": "stream",
          "text": [
            "Loss=0.0221 Batch_ID=468 Accuracy=98.64: 100%|██████████| 469/469 [00:11<00:00, 39.35it/s]\n",
            "  0%|          | 0/469 [00:00<?, ?it/s]"
          ],
          "name": "stderr"
        },
        {
          "output_type": "stream",
          "text": [
            "\n",
            "Test set: Average loss: 0.0356, Accuracy: 9893/10000 (98.93%)\n",
            "\n",
            "EPOCH: 12\n"
          ],
          "name": "stdout"
        },
        {
          "output_type": "stream",
          "text": [
            "Loss=0.0496 Batch_ID=468 Accuracy=98.62: 100%|██████████| 469/469 [00:11<00:00, 40.09it/s]\n",
            "  0%|          | 0/469 [00:00<?, ?it/s]"
          ],
          "name": "stderr"
        },
        {
          "output_type": "stream",
          "text": [
            "\n",
            "Test set: Average loss: 0.0345, Accuracy: 9884/10000 (98.84%)\n",
            "\n",
            "EPOCH: 13\n"
          ],
          "name": "stdout"
        },
        {
          "output_type": "stream",
          "text": [
            "Loss=0.0791 Batch_ID=468 Accuracy=98.66: 100%|██████████| 469/469 [00:11<00:00, 39.55it/s]\n",
            "  0%|          | 0/469 [00:00<?, ?it/s]"
          ],
          "name": "stderr"
        },
        {
          "output_type": "stream",
          "text": [
            "\n",
            "Test set: Average loss: 0.0263, Accuracy: 9922/10000 (99.22%)\n",
            "\n",
            "EPOCH: 14\n"
          ],
          "name": "stdout"
        },
        {
          "output_type": "stream",
          "text": [
            "Loss=0.0787 Batch_ID=468 Accuracy=98.75: 100%|██████████| 469/469 [00:11<00:00, 39.64it/s]\n",
            "  0%|          | 0/469 [00:00<?, ?it/s]"
          ],
          "name": "stderr"
        },
        {
          "output_type": "stream",
          "text": [
            "\n",
            "Test set: Average loss: 0.0330, Accuracy: 9891/10000 (98.91%)\n",
            "\n",
            "EPOCH: 15\n"
          ],
          "name": "stdout"
        },
        {
          "output_type": "stream",
          "text": [
            "Loss=0.0519 Batch_ID=468 Accuracy=98.75: 100%|██████████| 469/469 [00:11<00:00, 40.22it/s]\n"
          ],
          "name": "stderr"
        },
        {
          "output_type": "stream",
          "text": [
            "\n",
            "Test set: Average loss: 0.0251, Accuracy: 9924/10000 (99.24%)\n",
            "\n"
          ],
          "name": "stdout"
        }
      ]
    },
    {
      "cell_type": "markdown",
      "metadata": {
        "id": "Acnd3DXm2VFQ",
        "colab_type": "text"
      },
      "source": [
        "# Visualizing model performance"
      ]
    },
    {
      "cell_type": "code",
      "metadata": {
        "id": "87RaqGSEOWDe",
        "colab_type": "code",
        "colab": {
          "base_uri": "https://localhost:8080/",
          "height": 624
        },
        "outputId": "ba9c0b2c-0aca-4154-d0ab-2a7237c07ee9"
      },
      "source": [
        "fig, axs = plt.subplots(2,2,figsize=(15,10))\n",
        "axs[0, 0].plot(train_losses)\n",
        "axs[0, 0].set_title(\"Training Loss\")\n",
        "axs[1, 0].plot(train_acc)\n",
        "axs[1, 0].set_title(\"Training Accuracy\")\n",
        "axs[0, 1].plot(test_losses)\n",
        "axs[0, 1].set_title(\"Test Loss\")\n",
        "axs[1, 1].plot(test_acc)\n",
        "axs[1, 1].set_title(\"Test Accuracy\")"
      ],
      "execution_count": 90,
      "outputs": [
        {
          "output_type": "execute_result",
          "data": {
            "text/plain": [
              "Text(0.5, 1.0, 'Test Accuracy')"
            ]
          },
          "metadata": {
            "tags": []
          },
          "execution_count": 90
        },
        {
          "output_type": "display_data",
          "data": {
            "image/png": "[encoded data removed]",
            "text/plain": [
              "<Figure size 1080x720 with 4 Axes>"
            ]
          },
          "metadata": {
            "tags": [],
            "needs_background": "light"
          }
        }
      ]
    },
    {
      "cell_type": "code",
      "metadata": {
        "id": "5D2jLvmXLOw_",
        "colab_type": "code",
        "colab": {}
      },
      "source": [
        ""
      ],
      "execution_count": null,
      "outputs": []
    }
  ]
}