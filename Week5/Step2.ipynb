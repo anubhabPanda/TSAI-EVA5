{
  "nbformat": 4,
  "nbformat_minor": 0,
  "metadata": {
    "colab": {
      "name": "Step2.ipynb",
      "provenance": [],
      "collapsed_sections": []
    },
    "kernelspec": {
      "name": "python3",
      "display_name": "Python 3"
    },
    "accelerator": "GPU"
  },
  "cells": [
    {
      "cell_type": "markdown",
      "metadata": {
        "id": "rtazV2N5pELO",
        "colab_type": "text"
      },
      "source": [
        "# Step2"
      ]
    },
    {
      "cell_type": "markdown",
      "metadata": {
        "id": "yec7Qt08pHqo",
        "colab_type": "text"
      },
      "source": [
        "### Target\n",
        "\n",
        "1. Make the model lighter by reducing the number of parameters\n",
        "  * Reduce the number of channels\n",
        "  * Use Global Average Pooling instead of a large 7X7 kernel in the output block\n",
        "2. Have more number of channels before max pooling \n",
        "2. Transition layer after reaching a receptive field of 5 instead of 7 since in smaller images, edges and gradients starts getting detected at a receptive field of 5.\n",
        "\n",
        "### Results\n",
        "\n",
        "1. Parameters: 9,712\n",
        "2. Best Training Accuracy: 98.44\n",
        "3. Best Test Accuracy: 98.53\n",
        "\n",
        "### Analysis\n",
        "\n",
        "1. Good model\n",
        "2. Model is not overfitting\n",
        "3. There is room for improvement in terms of accuracy. Can push the model further."
      ]
    },
    {
      "cell_type": "markdown",
      "metadata": {
        "id": "aO-7t1Y7-hV4",
        "colab_type": "text"
      },
      "source": [
        "# Import Libraries\n",
        "Import the necessary packages"
      ]
    },
    {
      "cell_type": "code",
      "metadata": {
        "id": "8kH16rnZ7wt_",
        "colab_type": "code",
        "colab": {}
      },
      "source": [
        "from __future__ import print_function\n",
        "import torch\n",
        "import torch.nn as nn\n",
        "import torch.nn.functional as F\n",
        "import torch.optim as optim\n",
        "from torchvision import datasets, transforms\n",
        "from torchsummary import summary\n",
        "import matplotlib.pyplot as plt\n",
        "from tqdm import tqdm\n",
        "import numpy as np\n",
        "import pandas as pd\n",
        "import seaborn as sns\n",
        "%matplotlib inline"
      ],
      "execution_count": 22,
      "outputs": []
    },
    {
      "cell_type": "markdown",
      "metadata": {
        "id": "oQciFYo2B1mO",
        "colab_type": "text"
      },
      "source": [
        "# Read Dataset and Create Train/Test Split"
      ]
    },
    {
      "cell_type": "code",
      "metadata": {
        "id": "_4A84rlfDA23",
        "colab_type": "code",
        "colab": {}
      },
      "source": [
        "train = datasets.MNIST('./data', train=True, download=True)\n",
        "test = datasets.MNIST('./data', train=False, download=True)"
      ],
      "execution_count": 23,
      "outputs": []
    },
    {
      "cell_type": "markdown",
      "metadata": {
        "id": "-TFjoFekE_va",
        "colab_type": "text"
      },
      "source": [
        "# Data Statistics and Visualization\n",
        "\n",
        "Let us check some of the summary statistics for our data. It will help us to set initial transform. We can also visualize some sample images to get an idea of what transforms we can apply later."
      ]
    },
    {
      "cell_type": "code",
      "metadata": {
        "id": "hWZPPo3yEHDW",
        "colab_type": "code",
        "colab": {}
      },
      "source": [
        "# Function to get summary statistics\n",
        "def get_summary_stats(sample_data, data_label=\"Sample Data\"):\n",
        "  \"\"\"\n",
        "  Function to get summary statistics from a given data\n",
        "\n",
        "  Args\n",
        "  ----\n",
        "  sample_data: Tensor\n",
        "  data_label: str\n",
        "\n",
        "  Returns\n",
        "  -------\n",
        "  None\n",
        "  \"\"\"\n",
        "  sample = sample_data.data\n",
        "  sample = sample.numpy()\n",
        "  # Normalizing data between 0 and 1\n",
        "  sample = sample/255\n",
        "  print(f'Summary Statistics for {data_label}')\n",
        "  print(' - Numpy Shape:', sample.shape)\n",
        "  print(' - Tensor Shape:', sample.size)\n",
        "  print(' - min:', np.min(sample))\n",
        "  print(' - max:', np.max(sample))\n",
        "  print(' - mean:', np.mean(sample))\n",
        "  print(' - std:', np.std(sample))\n",
        "  print(' - var:', np.var(sample))\n"
      ],
      "execution_count": 24,
      "outputs": []
    },
    {
      "cell_type": "code",
      "metadata": {
        "id": "CQFIL7-ixtKt",
        "colab_type": "code",
        "colab": {
          "base_uri": "https://localhost:8080/",
          "height": 487
        },
        "outputId": "05c8dc20-3f9a-4c15-f42f-fdb773fe8d0b"
      },
      "source": [
        "combined_data = torch.cat([train.data, test.data])\n",
        "get_summary_stats(train.data, data_label=\"Training Dataset\")\n",
        "print(\"\\n\")\n",
        "get_summary_stats(test.data, data_label=\"Test Dataset\")\n",
        "print(\"\\n\")\n",
        "get_summary_stats(combined_data, data_label=\"Complete Dataset\")"
      ],
      "execution_count": 25,
      "outputs": [
        {
          "output_type": "stream",
          "text": [
            "Summary Statistics for Training Dataset\n",
            " - Numpy Shape: (60000, 28, 28)\n",
            " - Tensor Shape: 47040000\n",
            " - min: 0.0\n",
            " - max: 1.0\n",
            " - mean: 0.1306604762738429\n",
            " - std: 0.3081078038564622\n",
            " - var: 0.09493041879725218\n",
            "\n",
            "\n",
            "Summary Statistics for Test Dataset\n",
            " - Numpy Shape: (10000, 28, 28)\n",
            " - Tensor Shape: 7840000\n",
            " - min: 0.0\n",
            " - max: 1.0\n",
            " - mean: 0.13251460584233699\n",
            " - std: 0.3104802479305348\n",
            " - var: 0.09639798435500636\n",
            "\n",
            "\n",
            "Summary Statistics for Complete Dataset\n",
            " - Numpy Shape: (70000, 28, 28)\n",
            " - Tensor Shape: 54880000\n",
            " - min: 0.0\n",
            " - max: 1.0\n",
            " - mean: 0.13092535192648502\n",
            " - std: 0.3084485240270358\n",
            " - var: 0.0951404919744569\n"
          ],
          "name": "stdout"
        }
      ]
    },
    {
      "cell_type": "code",
      "metadata": {
        "id": "RQlcjBWQ1FWz",
        "colab_type": "code",
        "colab": {
          "base_uri": "https://localhost:8080/",
          "height": 367
        },
        "outputId": "2429f8ee-7aea-45c0-87c9-1550b861078b"
      },
      "source": [
        "fig, ax = plt.subplots(figsize = (14, 5))\n",
        "count_plot = sns.countplot(pd.Series(train.targets.numpy()), color=\"#3274a1\", ax = ax)\n",
        "ax.set_xlabel(\"Class\")\n",
        "ax.set_ylabel(\"Count of class\")\n",
        "ax.set_title(\"Countplot for classes in training set\")"
      ],
      "execution_count": 26,
      "outputs": [
        {
          "output_type": "execute_result",
          "data": {
            "text/plain": [
              "Text(0.5, 1.0, 'Countplot for classes in training set')"
            ]
          },
          "metadata": {
            "tags": []
          },
          "execution_count": 26
        },
        {
          "output_type": "display_data",
          "data": {
            "image/png": "[encoded data removed]",
            "text/plain": [
              "<Figure size 1008x360 with 1 Axes>"
            ]
          },
          "metadata": {
            "tags": [],
            "needs_background": "light"
          }
        }
      ]
    },
    {
      "cell_type": "markdown",
      "metadata": {
        "id": "_NTCBwsn47hf",
        "colab_type": "text"
      },
      "source": [
        "### Inference\n",
        "The classes are almost balanced. No need for any class imbalance tricks"
      ]
    },
    {
      "cell_type": "markdown",
      "metadata": {
        "id": "_WlLQMDX6ISg",
        "colab_type": "text"
      },
      "source": [
        "Now lets visualize some of the images"
      ]
    },
    {
      "cell_type": "code",
      "metadata": {
        "id": "smqff6lJ46PI",
        "colab_type": "code",
        "colab": {
          "base_uri": "https://localhost:8080/",
          "height": 357
        },
        "outputId": "bbeef2f5-df2d-4f67-e093-27774c77e6a6"
      },
      "source": [
        "figure = plt.figure(figsize=(10, 6))\n",
        "num_of_images = 60\n",
        "for index in range(1, num_of_images + 1):\n",
        "    plt.subplot(6, 10, index)\n",
        "    plt.axis('off')\n",
        "    plt.imshow(train.data.numpy()[index], cmap='gray_r')\n",
        "#Deleting the combined data since its of no use any longer\n",
        "del combined_data"
      ],
      "execution_count": 27,
      "outputs": [
        {
          "output_type": "display_data",
          "data": {
            "image/png": "[encoded data removed]",
            "text/plain": [
              "<Figure size 720x432 with 60 Axes>"
            ]
          },
          "metadata": {
            "tags": [],
            "needs_background": "light"
          }
        }
      ]
    },
    {
      "cell_type": "markdown",
      "metadata": {
        "id": "WaXMkAQt6oZW",
        "colab_type": "text"
      },
      "source": [
        "# Setting Transforms\n",
        "Now we can set transforms from the summary statistics. We will be applying the following transformations: \n",
        "* ToTensor() : It converts PIL image or numpy array to FloatTensor in the range of [0.0, 1.0]\n",
        "* Normalize: It normalizes each channel of an input given a mean and std deviation. We have already ascertained the mean and std deviation of the dataset to be 0.1309 ad 0.3084"
      ]
    },
    {
      "cell_type": "code",
      "metadata": {
        "id": "YtssFUKb-jqx",
        "colab_type": "code",
        "colab": {}
      },
      "source": [
        "# Train Phase transformations\n",
        "train_transforms = transforms.Compose([\n",
        "                                       transforms.ToTensor(),  \n",
        "                                       transforms.Normalize((0.1309,), (0.3084,))\n",
        "                                       ])\n",
        "\n",
        "# Test Phase transformations\n",
        "test_transforms = transforms.Compose([\n",
        "                                       transforms.ToTensor(),\n",
        "                                       transforms.Normalize((0.1309,), (0.3084,))\n",
        "                                       ])"
      ],
      "execution_count": 28,
      "outputs": []
    },
    {
      "cell_type": "code",
      "metadata": {
        "id": "eF6Wu_Ns9SzG",
        "colab_type": "code",
        "colab": {}
      },
      "source": [
        "#Read data and apply the above transforms\n",
        "train = datasets.MNIST('./data', train=True, download=True, transform=train_transforms)\n",
        "test = datasets.MNIST('./data', train=False, download=True, transform=test_transforms)"
      ],
      "execution_count": 29,
      "outputs": []
    },
    {
      "cell_type": "markdown",
      "metadata": {
        "id": "qgldp_3-Dn0c",
        "colab_type": "text"
      },
      "source": [
        "# Set Dataloader Arguments & Create Test/Train Dataloaders\n"
      ]
    },
    {
      "cell_type": "code",
      "metadata": {
        "id": "C8OLDR79DrHG",
        "colab_type": "code",
        "colab": {
          "base_uri": "https://localhost:8080/",
          "height": 50
        },
        "outputId": "837402ba-7053-4bae-a9b1-1f43a46217f4"
      },
      "source": [
        "# Set the manual seed\n",
        "SEED = 1\n",
        "# Initialize batch size\n",
        "bs = 128\n",
        "# Check for availability of cuda\n",
        "cuda = torch.cuda.is_available()\n",
        "print(\" Is CUDA Available ?\\n\", cuda)\n",
        "\n",
        "# For reproducibility\n",
        "torch.manual_seed(SEED)\n",
        "\n",
        "if cuda:\n",
        "    torch.cuda.manual_seed(SEED)\n",
        "\n",
        "# Setting the dataloader arguments\n",
        "dataloader_args = dict(shuffle=True, batch_size=bs, num_workers=4, pin_memory=True) if cuda else dict(shuffle=True, batch_size=64)\n",
        "\n",
        "# train dataloader\n",
        "train_loader = torch.utils.data.DataLoader(train, **dataloader_args)\n",
        "\n",
        "# test dataloader\n",
        "test_loader = torch.utils.data.DataLoader(test, **dataloader_args)"
      ],
      "execution_count": 30,
      "outputs": [
        {
          "output_type": "stream",
          "text": [
            " Is CUDA Available ?\n",
            " True\n"
          ],
          "name": "stdout"
        }
      ]
    },
    {
      "cell_type": "markdown",
      "metadata": {
        "id": "ubQL3H6RJL3h",
        "colab_type": "text"
      },
      "source": [
        "# The model architecture\n",
        "Now we can setup or initial model skeleton"
      ]
    },
    {
      "cell_type": "code",
      "metadata": {
        "id": "7FXQlB9kH1ov",
        "colab_type": "code",
        "colab": {}
      },
      "source": [
        "class Net(nn.Module):\n",
        "    def __init__(self):\n",
        "      \"\"\"\n",
        "      Initializes all the model layers\n",
        "      \"\"\"\n",
        "      #Inheriting from the nn.Module class\n",
        "      super(Net, self).__init__()\n",
        "      \n",
        "      #Convolution Block 1\n",
        "      self.conv1 = nn.Sequential(\n",
        "          nn.Conv2d(in_channels=1, out_channels=16, kernel_size=3, bias=False, padding=1),\n",
        "          nn.ReLU()\n",
        "      ) #Input: 28X28X1 | Output: 28X28X16 | RF: 3\n",
        "\n",
        "      #Convolution Block 2\n",
        "      self.conv2 = nn.Sequential(\n",
        "          nn.Conv2d(in_channels=16, out_channels=24, kernel_size=3, bias=False, padding=0),\n",
        "          nn.ReLU()\n",
        "      ) #Input: 28X28X16 | Output: 26X26X24 | RF: 5\n",
        "      \n",
        "      #Transition Block 1\n",
        "      self.pool1 = nn.MaxPool2d(2, 2) #Input: 26X26X24 | Output: 13X13X24 | RF: 6\n",
        "      self.conv4 = nn.Sequential(\n",
        "          nn.Conv2d(in_channels=24, out_channels=8, kernel_size=1, bias=False),\n",
        "          nn.ReLU()\n",
        "      ) #Input: 13X13X24 | Output: 13X13X8 | RF: 6\n",
        "\n",
        "      #Convolution Block 3\n",
        "      self.conv3 = nn.Sequential(\n",
        "          nn.Conv2d(in_channels=8, out_channels=16, kernel_size=3, bias=False, padding=0),\n",
        "          nn.ReLU()\n",
        "      ) #Input: 13X13X8 | Output: 11X11X16 | RF: 10\n",
        "\n",
        "      #Convolution Block 4\n",
        "      self.conv5 = nn.Sequential(\n",
        "          nn.Conv2d(in_channels=16, out_channels=16, kernel_size=3, bias=False, padding=0),\n",
        "          nn.ReLU()\n",
        "      ) #Input: 11X11X16 | Output: 9X9X16 | RF: 14\n",
        "\n",
        "      #Convolution Block 5\n",
        "      self.conv6 = nn.Sequential(\n",
        "          nn.Conv2d(in_channels=16, out_channels=16, kernel_size=3, bias=False, padding=0),\n",
        "          nn.ReLU()\n",
        "      ) #Input: 9X9X16 | Output: 7X7X16 | RF: 18\n",
        "\n",
        "      #Output Block\n",
        "      self.conv7 = nn.Sequential(\n",
        "          nn.AvgPool2d(kernel_size=7)\n",
        "      ) #Input: 7X7X32 | Output: 1X1X16 | RF: 30\n",
        "      \n",
        "      self.conv8 = nn.Sequential(\n",
        "          nn.Conv2d(in_channels=16, out_channels=10, kernel_size=1, bias=False, padding=0),\n",
        "      ) #Input: 1X1X16 | Output: 1X1X10 | RF: 30\n",
        "\n",
        "\n",
        "    def forward(self, x):\n",
        "        x = self.conv1(x)\n",
        "        x = self.conv2(x)\n",
        "        x = self.pool1(x)\n",
        "        x = self.conv4(x)\n",
        "        x = self.conv3(x)\n",
        "        x = self.conv5(x)\n",
        "        x = self.conv6(x)\n",
        "        x = self.conv7(x)\n",
        "        x = self.conv8(x)\n",
        "        x = x.view(-1, 10)\n",
        "        return F.log_softmax(x, dim=-1)"
      ],
      "execution_count": 31,
      "outputs": []
    },
    {
      "cell_type": "markdown",
      "metadata": {
        "id": "M3-vp8X9LCWo",
        "colab_type": "text"
      },
      "source": [
        "# Model Params\n",
        "We can now check the model summary and see the total number of parameters"
      ]
    },
    {
      "cell_type": "code",
      "metadata": {
        "id": "5skB97zIJQQe",
        "colab_type": "code",
        "colab": {
          "base_uri": "https://localhost:8080/",
          "height": 504
        },
        "outputId": "56061eca-4f03-4950-c52c-c106d16d8203"
      },
      "source": [
        "use_cuda = torch.cuda.is_available()\n",
        "device = torch.device(\"cuda\" if use_cuda else \"cpu\") #Use cuda if available else use cpu\n",
        "print(device)\n",
        "model = Net().to(device) #Sending the model to cuda if available otherwise use cpu\n",
        "summary(model, input_size=(1, 28, 28))"
      ],
      "execution_count": 32,
      "outputs": [
        {
          "output_type": "stream",
          "text": [
            "cuda\n",
            "----------------------------------------------------------------\n",
            "        Layer (type)               Output Shape         Param #\n",
            "================================================================\n",
            "            Conv2d-1           [-1, 16, 28, 28]             144\n",
            "              ReLU-2           [-1, 16, 28, 28]               0\n",
            "            Conv2d-3           [-1, 24, 26, 26]           3,456\n",
            "              ReLU-4           [-1, 24, 26, 26]               0\n",
            "         MaxPool2d-5           [-1, 24, 13, 13]               0\n",
            "            Conv2d-6            [-1, 8, 13, 13]             192\n",
            "              ReLU-7            [-1, 8, 13, 13]               0\n",
            "            Conv2d-8           [-1, 16, 11, 11]           1,152\n",
            "              ReLU-9           [-1, 16, 11, 11]               0\n",
            "           Conv2d-10             [-1, 16, 9, 9]           2,304\n",
            "             ReLU-11             [-1, 16, 9, 9]               0\n",
            "           Conv2d-12             [-1, 16, 7, 7]           2,304\n",
            "             ReLU-13             [-1, 16, 7, 7]               0\n",
            "        AvgPool2d-14             [-1, 16, 1, 1]               0\n",
            "           Conv2d-15             [-1, 10, 1, 1]             160\n",
            "================================================================\n",
            "Total params: 9,712\n",
            "Trainable params: 9,712\n",
            "Non-trainable params: 0\n",
            "----------------------------------------------------------------\n",
            "Input size (MB): 0.00\n",
            "Forward/backward pass size (MB): 0.55\n",
            "Params size (MB): 0.04\n",
            "Estimated Total Size (MB): 0.59\n",
            "----------------------------------------------------------------\n"
          ],
          "name": "stdout"
        }
      ]
    },
    {
      "cell_type": "markdown",
      "metadata": {
        "id": "1__x_SbrL7z3",
        "colab_type": "text"
      },
      "source": [
        "# Training and Testing\n",
        "\n",
        "All right, so we have 9.7k params, and that's below our target. That's good\n",
        "Let's write train and test functions and check our model performance"
      ]
    },
    {
      "cell_type": "code",
      "metadata": {
        "id": "fbkF2nN_LYIb",
        "colab_type": "code",
        "colab": {}
      },
      "source": [
        "train_losses = []\n",
        "test_losses = []\n",
        "train_acc = []\n",
        "test_acc = []\n",
        "\n",
        "def train(model, device, train_loader, optimizer, epoch):\n",
        "  model.train()\n",
        "  pbar = tqdm(train_loader)\n",
        "  correct = 0\n",
        "  processed = 0\n",
        "  for batch_idx, (data, target) in enumerate(pbar):\n",
        "    # get samples\n",
        "    data, target = data.to(device), target.to(device)\n",
        "\n",
        "    # Init\n",
        "    optimizer.zero_grad()\n",
        "    # In PyTorch, we need to set the gradients to zero before starting to do backpropragation because PyTorch accumulates the gradients on subsequent backward passes. \n",
        "    # Because of this, when you start your training loop, ideally you should zero out the gradients so that you do the parameter update correctly.\n",
        "\n",
        "    # Predict\n",
        "    y_pred = model(data)\n",
        "\n",
        "    # Calculate loss\n",
        "    loss = F.nll_loss(y_pred, target)\n",
        "    train_losses.append(loss)\n",
        "\n",
        "    # Backpropagation\n",
        "    loss.backward()\n",
        "    optimizer.step()\n",
        "\n",
        "    # Update pbar-tqdm\n",
        "    \n",
        "    pred = y_pred.argmax(dim=1, keepdim=True)  # get the index of the max log-probability\n",
        "    correct += pred.eq(target.view_as(pred)).sum().item()\n",
        "    processed += len(data)\n",
        "\n",
        "    train_acc.append(100*correct/processed)\n",
        "    pbar.set_description(desc=f'Loss={loss.item():0.4f} Batch_ID={batch_idx} Accuracy={train_acc[-1]:.2f}')\n",
        "\n",
        "def test(model, device, test_loader):\n",
        "    model.eval()\n",
        "    test_loss = 0\n",
        "    correct = 0\n",
        "    with torch.no_grad():\n",
        "        for data, target in test_loader:\n",
        "            data, target = data.to(device), target.to(device)\n",
        "            output = model(data)\n",
        "            test_loss += F.nll_loss(output, target, reduction='sum').item()  # sum up batch loss\n",
        "            pred = output.argmax(dim=1, keepdim=True)  # get the index of the max log-probability\n",
        "            correct += pred.eq(target.view_as(pred)).sum().item()\n",
        "\n",
        "    test_loss /= len(test_loader.dataset)\n",
        "    test_losses.append(test_loss)\n",
        "    test_acc.append(100. * correct / len(test_loader.dataset))\n",
        "    print(f'\\nTest set: Average loss: {test_loss:.4f}, Accuracy: {correct}/{len(test_loader.dataset)} ({test_acc[-1]:.2f}%)\\n')"
      ],
      "execution_count": 33,
      "outputs": []
    },
    {
      "cell_type": "markdown",
      "metadata": {
        "id": "drokW8wWODKq",
        "colab_type": "text"
      },
      "source": [
        "# Let's Train and test our model"
      ]
    },
    {
      "cell_type": "code",
      "metadata": {
        "id": "xMCFxeAKOB53",
        "colab_type": "code",
        "colab": {
          "base_uri": "https://localhost:8080/",
          "height": 1000
        },
        "outputId": "5416e8d2-d60b-4694-8995-5604a670484b"
      },
      "source": [
        "model =  Net().to(device)\n",
        "optimizer = optim.SGD(model.parameters(), lr=0.01, momentum=0.9)\n",
        "EPOCHS = 15\n",
        "for epoch in range(EPOCHS):\n",
        "    print(\"EPOCH:\", epoch+1)\n",
        "    train(model, device, train_loader, optimizer, epoch)\n",
        "    test(model, device, test_loader)"
      ],
      "execution_count": 34,
      "outputs": [
        {
          "output_type": "stream",
          "text": [
            "\r  0%|          | 0/469 [00:00<?, ?it/s]"
          ],
          "name": "stderr"
        },
        {
          "output_type": "stream",
          "text": [
            "EPOCH: 1\n"
          ],
          "name": "stdout"
        },
        {
          "output_type": "stream",
          "text": [
            "Loss=1.3781 Batch_ID=468 Accuracy=15.36: 100%|██████████| 469/469 [00:16<00:00, 28.42it/s]\n",
            "  0%|          | 0/469 [00:00<?, ?it/s]"
          ],
          "name": "stderr"
        },
        {
          "output_type": "stream",
          "text": [
            "\n",
            "Test set: Average loss: 1.0675, Accuracy: 6540/10000 (65.40%)\n",
            "\n",
            "EPOCH: 2\n"
          ],
          "name": "stdout"
        },
        {
          "output_type": "stream",
          "text": [
            "Loss=0.2815 Batch_ID=468 Accuracy=85.12: 100%|██████████| 469/469 [00:16<00:00, 28.16it/s]\n",
            "  0%|          | 0/469 [00:00<?, ?it/s]"
          ],
          "name": "stderr"
        },
        {
          "output_type": "stream",
          "text": [
            "\n",
            "Test set: Average loss: 0.2320, Accuracy: 9314/10000 (93.14%)\n",
            "\n",
            "EPOCH: 3\n"
          ],
          "name": "stdout"
        },
        {
          "output_type": "stream",
          "text": [
            "Loss=0.0914 Batch_ID=468 Accuracy=93.44: 100%|██████████| 469/469 [00:16<00:00, 27.88it/s]\n",
            "  0%|          | 0/469 [00:00<?, ?it/s]"
          ],
          "name": "stderr"
        },
        {
          "output_type": "stream",
          "text": [
            "\n",
            "Test set: Average loss: 0.1509, Accuracy: 9528/10000 (95.28%)\n",
            "\n",
            "EPOCH: 4\n"
          ],
          "name": "stdout"
        },
        {
          "output_type": "stream",
          "text": [
            "Loss=0.1441 Batch_ID=468 Accuracy=95.23: 100%|██████████| 469/469 [00:16<00:00, 28.41it/s]\n",
            "  0%|          | 0/469 [00:00<?, ?it/s]"
          ],
          "name": "stderr"
        },
        {
          "output_type": "stream",
          "text": [
            "\n",
            "Test set: Average loss: 0.1169, Accuracy: 9628/10000 (96.28%)\n",
            "\n",
            "EPOCH: 5\n"
          ],
          "name": "stdout"
        },
        {
          "output_type": "stream",
          "text": [
            "Loss=0.0592 Batch_ID=468 Accuracy=96.27: 100%|██████████| 469/469 [00:16<00:00, 28.74it/s]\n",
            "  0%|          | 0/469 [00:00<?, ?it/s]"
          ],
          "name": "stderr"
        },
        {
          "output_type": "stream",
          "text": [
            "\n",
            "Test set: Average loss: 0.0865, Accuracy: 9736/10000 (97.36%)\n",
            "\n",
            "EPOCH: 6\n"
          ],
          "name": "stdout"
        },
        {
          "output_type": "stream",
          "text": [
            "Loss=0.0851 Batch_ID=468 Accuracy=96.79: 100%|██████████| 469/469 [00:16<00:00, 28.67it/s]\n",
            "  0%|          | 0/469 [00:00<?, ?it/s]"
          ],
          "name": "stderr"
        },
        {
          "output_type": "stream",
          "text": [
            "\n",
            "Test set: Average loss: 0.0921, Accuracy: 9723/10000 (97.23%)\n",
            "\n",
            "EPOCH: 7\n"
          ],
          "name": "stdout"
        },
        {
          "output_type": "stream",
          "text": [
            "Loss=0.0914 Batch_ID=468 Accuracy=97.21: 100%|██████████| 469/469 [00:17<00:00, 27.18it/s]\n",
            "  0%|          | 0/469 [00:00<?, ?it/s]"
          ],
          "name": "stderr"
        },
        {
          "output_type": "stream",
          "text": [
            "\n",
            "Test set: Average loss: 0.0856, Accuracy: 9740/10000 (97.40%)\n",
            "\n",
            "EPOCH: 8\n"
          ],
          "name": "stdout"
        },
        {
          "output_type": "stream",
          "text": [
            "Loss=0.1044 Batch_ID=468 Accuracy=97.39: 100%|██████████| 469/469 [00:17<00:00, 27.45it/s]\n",
            "  0%|          | 0/469 [00:00<?, ?it/s]"
          ],
          "name": "stderr"
        },
        {
          "output_type": "stream",
          "text": [
            "\n",
            "Test set: Average loss: 0.0777, Accuracy: 9770/10000 (97.70%)\n",
            "\n",
            "EPOCH: 9\n"
          ],
          "name": "stdout"
        },
        {
          "output_type": "stream",
          "text": [
            "Loss=0.0519 Batch_ID=468 Accuracy=97.75: 100%|██████████| 469/469 [00:17<00:00, 27.05it/s]\n",
            "  0%|          | 0/469 [00:00<?, ?it/s]"
          ],
          "name": "stderr"
        },
        {
          "output_type": "stream",
          "text": [
            "\n",
            "Test set: Average loss: 0.0757, Accuracy: 9768/10000 (97.68%)\n",
            "\n",
            "EPOCH: 10\n"
          ],
          "name": "stdout"
        },
        {
          "output_type": "stream",
          "text": [
            "Loss=0.0645 Batch_ID=468 Accuracy=97.89: 100%|██████████| 469/469 [00:17<00:00, 27.46it/s]\n",
            "  0%|          | 0/469 [00:00<?, ?it/s]"
          ],
          "name": "stderr"
        },
        {
          "output_type": "stream",
          "text": [
            "\n",
            "Test set: Average loss: 0.0635, Accuracy: 9803/10000 (98.03%)\n",
            "\n",
            "EPOCH: 11\n"
          ],
          "name": "stdout"
        },
        {
          "output_type": "stream",
          "text": [
            "Loss=0.0328 Batch_ID=468 Accuracy=98.03: 100%|██████████| 469/469 [00:16<00:00, 27.86it/s]\n",
            "  0%|          | 0/469 [00:00<?, ?it/s]"
          ],
          "name": "stderr"
        },
        {
          "output_type": "stream",
          "text": [
            "\n",
            "Test set: Average loss: 0.0581, Accuracy: 9823/10000 (98.23%)\n",
            "\n",
            "EPOCH: 12\n"
          ],
          "name": "stdout"
        },
        {
          "output_type": "stream",
          "text": [
            "Loss=0.0370 Batch_ID=468 Accuracy=98.13: 100%|██████████| 469/469 [00:17<00:00, 26.84it/s]\n",
            "  0%|          | 0/469 [00:00<?, ?it/s]"
          ],
          "name": "stderr"
        },
        {
          "output_type": "stream",
          "text": [
            "\n",
            "Test set: Average loss: 0.0545, Accuracy: 9841/10000 (98.41%)\n",
            "\n",
            "EPOCH: 13\n"
          ],
          "name": "stdout"
        },
        {
          "output_type": "stream",
          "text": [
            "Loss=0.0432 Batch_ID=468 Accuracy=98.22: 100%|██████████| 469/469 [00:17<00:00, 26.92it/s]\n",
            "  0%|          | 0/469 [00:00<?, ?it/s]"
          ],
          "name": "stderr"
        },
        {
          "output_type": "stream",
          "text": [
            "\n",
            "Test set: Average loss: 0.0510, Accuracy: 9853/10000 (98.53%)\n",
            "\n",
            "EPOCH: 14\n"
          ],
          "name": "stdout"
        },
        {
          "output_type": "stream",
          "text": [
            "Loss=0.0836 Batch_ID=468 Accuracy=98.39: 100%|██████████| 469/469 [00:17<00:00, 27.55it/s]\n",
            "  0%|          | 0/469 [00:00<?, ?it/s]"
          ],
          "name": "stderr"
        },
        {
          "output_type": "stream",
          "text": [
            "\n",
            "Test set: Average loss: 0.0515, Accuracy: 9841/10000 (98.41%)\n",
            "\n",
            "EPOCH: 15\n"
          ],
          "name": "stdout"
        },
        {
          "output_type": "stream",
          "text": [
            "Loss=0.0233 Batch_ID=468 Accuracy=98.44: 100%|██████████| 469/469 [00:17<00:00, 27.04it/s]\n"
          ],
          "name": "stderr"
        },
        {
          "output_type": "stream",
          "text": [
            "\n",
            "Test set: Average loss: 0.0556, Accuracy: 9814/10000 (98.14%)\n",
            "\n"
          ],
          "name": "stdout"
        }
      ]
    },
    {
      "cell_type": "markdown",
      "metadata": {
        "id": "Acnd3DXm2VFQ",
        "colab_type": "text"
      },
      "source": [
        "# Visualizing model performance"
      ]
    },
    {
      "cell_type": "code",
      "metadata": {
        "id": "87RaqGSEOWDe",
        "colab_type": "code",
        "colab": {
          "base_uri": "https://localhost:8080/",
          "height": 624
        },
        "outputId": "4cd0e8f5-5d88-4e23-946b-19f6c72e1a01"
      },
      "source": [
        "fig, axs = plt.subplots(2,2,figsize=(15,10))\n",
        "axs[0, 0].plot(train_losses)\n",
        "axs[0, 0].set_title(\"Training Loss\")\n",
        "axs[1, 0].plot(train_acc)\n",
        "axs[1, 0].set_title(\"Training Accuracy\")\n",
        "axs[0, 1].plot(test_losses)\n",
        "axs[0, 1].set_title(\"Test Loss\")\n",
        "axs[1, 1].plot(test_acc)\n",
        "axs[1, 1].set_title(\"Test Accuracy\")"
      ],
      "execution_count": 35,
      "outputs": [
        {
          "output_type": "execute_result",
          "data": {
            "text/plain": [
              "Text(0.5, 1.0, 'Test Accuracy')"
            ]
          },
          "metadata": {
            "tags": []
          },
          "execution_count": 35
        },
        {
          "output_type": "display_data",
          "data": {
            "image/png": "[encoded data removed]",
            "text/plain": [
              "<Figure size 1080x720 with 4 Axes>"
            ]
          },
          "metadata": {
            "tags": [],
            "needs_background": "light"
          }
        }
      ]
    },
    {
      "cell_type": "code",
      "metadata": {
        "id": "ZFcZ_EasHK-F",
        "colab_type": "code",
        "colab": {}
      },
      "source": [
        ""
      ],
      "execution_count": null,
      "outputs": []
    }
  ]
}